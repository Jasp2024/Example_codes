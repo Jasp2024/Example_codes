{
 "cells": [
  {
   "cell_type": "code",
   "execution_count": 189,
   "id": "749ea000",
   "metadata": {},
   "outputs": [],
   "source": [
    "import numpy as np\n",
    "import pandas as pd\n",
    "import matplotlib.pyplot as plt\n",
    "import matplotlib as mpl\n",
    "import seaborn as sns\n",
    "import re\n",
    "import json\n",
    "np.set_printoptions(precision = 4, suppress = True)\n",
    "pd.options.display.max_rows = 20\n",
    "pd.options.display.max_columns = 20\n",
    "pd.options.display.max_colwidth = 80\n",
    "from sklearn.model_selection import train_test_split\n",
    "from sklearn import preprocessing\n",
    "from sklearn.svm import SVC\n",
    "from sklearn.model_selection import GridSearchCV\n",
    "from sklearn.metrics import ConfusionMatrixDisplay\n",
    "from sklearn.decomposition import PCA\n",
    "from sklearn.pipeline import make_pipeline\n",
    "from sklearn.impute import SimpleImputer"
   ]
  },
  {
   "cell_type": "code",
   "execution_count": 190,
   "id": "5151cf1a",
   "metadata": {},
   "outputs": [
    {
     "data": {
      "text/html": [
       "<div>\n",
       "<style scoped>\n",
       "    .dataframe tbody tr th:only-of-type {\n",
       "        vertical-align: middle;\n",
       "    }\n",
       "\n",
       "    .dataframe tbody tr th {\n",
       "        vertical-align: top;\n",
       "    }\n",
       "\n",
       "    .dataframe thead th {\n",
       "        text-align: right;\n",
       "    }\n",
       "</style>\n",
       "<table border=\"1\" class=\"dataframe\">\n",
       "  <thead>\n",
       "    <tr style=\"text-align: right;\">\n",
       "      <th></th>\n",
       "      <th>Follow-up period from enrollment (days)</th>\n",
       "      <th>days_4years</th>\n",
       "      <th>Exit of the study</th>\n",
       "      <th>Cause of death</th>\n",
       "      <th>SCD_4years SinusRhythm</th>\n",
       "      <th>HF_4years SinusRhythm</th>\n",
       "      <th>Age</th>\n",
       "      <th>Gender (male=1)</th>\n",
       "      <th>Weight (kg)</th>\n",
       "      <th>Height (cm)</th>\n",
       "      <th>...</th>\n",
       "      <th>Unnamed: 172</th>\n",
       "      <th>Unnamed: 173</th>\n",
       "      <th>Unnamed: 174</th>\n",
       "      <th>Unnamed: 175</th>\n",
       "      <th>Unnamed: 176</th>\n",
       "      <th>Unnamed: 177</th>\n",
       "      <th>Unnamed: 178</th>\n",
       "      <th>Unnamed: 179</th>\n",
       "      <th>Unnamed: 180</th>\n",
       "      <th>Unnamed: 181</th>\n",
       "    </tr>\n",
       "    <tr>\n",
       "      <th>Patient ID</th>\n",
       "      <th></th>\n",
       "      <th></th>\n",
       "      <th></th>\n",
       "      <th></th>\n",
       "      <th></th>\n",
       "      <th></th>\n",
       "      <th></th>\n",
       "      <th></th>\n",
       "      <th></th>\n",
       "      <th></th>\n",
       "      <th></th>\n",
       "      <th></th>\n",
       "      <th></th>\n",
       "      <th></th>\n",
       "      <th></th>\n",
       "      <th></th>\n",
       "      <th></th>\n",
       "      <th></th>\n",
       "      <th></th>\n",
       "      <th></th>\n",
       "      <th></th>\n",
       "    </tr>\n",
       "  </thead>\n",
       "  <tbody>\n",
       "    <tr>\n",
       "      <th>P0001</th>\n",
       "      <td>2065</td>\n",
       "      <td>1460</td>\n",
       "      <td>NaN</td>\n",
       "      <td>0</td>\n",
       "      <td>0</td>\n",
       "      <td>0</td>\n",
       "      <td>58</td>\n",
       "      <td>1</td>\n",
       "      <td>83</td>\n",
       "      <td>163</td>\n",
       "      <td>...</td>\n",
       "      <td>NaN</td>\n",
       "      <td>NaN</td>\n",
       "      <td>NaN</td>\n",
       "      <td>NaN</td>\n",
       "      <td>NaN</td>\n",
       "      <td>NaN</td>\n",
       "      <td>NaN</td>\n",
       "      <td>NaN</td>\n",
       "      <td>NaN</td>\n",
       "      <td>NaN</td>\n",
       "    </tr>\n",
       "    <tr>\n",
       "      <th>P0002</th>\n",
       "      <td>2045</td>\n",
       "      <td>1460</td>\n",
       "      <td>NaN</td>\n",
       "      <td>0</td>\n",
       "      <td>0</td>\n",
       "      <td>0</td>\n",
       "      <td>58</td>\n",
       "      <td>1</td>\n",
       "      <td>74</td>\n",
       "      <td>160</td>\n",
       "      <td>...</td>\n",
       "      <td>NaN</td>\n",
       "      <td>NaN</td>\n",
       "      <td>NaN</td>\n",
       "      <td>NaN</td>\n",
       "      <td>NaN</td>\n",
       "      <td>NaN</td>\n",
       "      <td>NaN</td>\n",
       "      <td>NaN</td>\n",
       "      <td>NaN</td>\n",
       "      <td>NaN</td>\n",
       "    </tr>\n",
       "    <tr>\n",
       "      <th>P0003</th>\n",
       "      <td>2044</td>\n",
       "      <td>1460</td>\n",
       "      <td>NaN</td>\n",
       "      <td>0</td>\n",
       "      <td>0</td>\n",
       "      <td>0</td>\n",
       "      <td>69</td>\n",
       "      <td>1</td>\n",
       "      <td>83</td>\n",
       "      <td>174</td>\n",
       "      <td>...</td>\n",
       "      <td>NaN</td>\n",
       "      <td>NaN</td>\n",
       "      <td>NaN</td>\n",
       "      <td>NaN</td>\n",
       "      <td>NaN</td>\n",
       "      <td>NaN</td>\n",
       "      <td>NaN</td>\n",
       "      <td>NaN</td>\n",
       "      <td>NaN</td>\n",
       "      <td>NaN</td>\n",
       "    </tr>\n",
       "    <tr>\n",
       "      <th>P0004</th>\n",
       "      <td>2044</td>\n",
       "      <td>1460</td>\n",
       "      <td>NaN</td>\n",
       "      <td>0</td>\n",
       "      <td>0</td>\n",
       "      <td>0</td>\n",
       "      <td>56</td>\n",
       "      <td>0</td>\n",
       "      <td>84</td>\n",
       "      <td>165</td>\n",
       "      <td>...</td>\n",
       "      <td>NaN</td>\n",
       "      <td>NaN</td>\n",
       "      <td>NaN</td>\n",
       "      <td>NaN</td>\n",
       "      <td>NaN</td>\n",
       "      <td>NaN</td>\n",
       "      <td>NaN</td>\n",
       "      <td>NaN</td>\n",
       "      <td>NaN</td>\n",
       "      <td>NaN</td>\n",
       "    </tr>\n",
       "    <tr>\n",
       "      <th>P0005</th>\n",
       "      <td>2043</td>\n",
       "      <td>1460</td>\n",
       "      <td>NaN</td>\n",
       "      <td>0</td>\n",
       "      <td>0</td>\n",
       "      <td>0</td>\n",
       "      <td>70</td>\n",
       "      <td>1</td>\n",
       "      <td>97</td>\n",
       "      <td>183</td>\n",
       "      <td>...</td>\n",
       "      <td>NaN</td>\n",
       "      <td>NaN</td>\n",
       "      <td>NaN</td>\n",
       "      <td>NaN</td>\n",
       "      <td>NaN</td>\n",
       "      <td>NaN</td>\n",
       "      <td>NaN</td>\n",
       "      <td>NaN</td>\n",
       "      <td>NaN</td>\n",
       "      <td>NaN</td>\n",
       "    </tr>\n",
       "  </tbody>\n",
       "</table>\n",
       "<p>5 rows × 181 columns</p>\n",
       "</div>"
      ],
      "text/plain": [
       "            Follow-up period from enrollment (days)  days_4years  \\\n",
       "Patient ID                                                         \n",
       "P0001                                          2065         1460   \n",
       "P0002                                          2045         1460   \n",
       "P0003                                          2044         1460   \n",
       "P0004                                          2044         1460   \n",
       "P0005                                          2043         1460   \n",
       "\n",
       "            Exit of the study  Cause of death  SCD_4years SinusRhythm  \\\n",
       "Patient ID                                                              \n",
       "P0001                     NaN               0                       0   \n",
       "P0002                     NaN               0                       0   \n",
       "P0003                     NaN               0                       0   \n",
       "P0004                     NaN               0                       0   \n",
       "P0005                     NaN               0                       0   \n",
       "\n",
       "            HF_4years SinusRhythm Age  Gender (male=1)  Weight (kg)  \\\n",
       "Patient ID                                                            \n",
       "P0001                           0  58                1           83   \n",
       "P0002                           0  58                1           74   \n",
       "P0003                           0  69                1           83   \n",
       "P0004                           0  56                0           84   \n",
       "P0005                           0  70                1           97   \n",
       "\n",
       "            Height (cm)  ... Unnamed: 172  Unnamed: 173  Unnamed: 174  \\\n",
       "Patient ID               ...                                            \n",
       "P0001               163  ...          NaN           NaN           NaN   \n",
       "P0002               160  ...          NaN           NaN           NaN   \n",
       "P0003               174  ...          NaN           NaN           NaN   \n",
       "P0004               165  ...          NaN           NaN           NaN   \n",
       "P0005               183  ...          NaN           NaN           NaN   \n",
       "\n",
       "            Unnamed: 175  Unnamed: 176  Unnamed: 177  Unnamed: 178  \\\n",
       "Patient ID                                                           \n",
       "P0001                NaN           NaN           NaN           NaN   \n",
       "P0002                NaN           NaN           NaN           NaN   \n",
       "P0003                NaN           NaN           NaN           NaN   \n",
       "P0004                NaN           NaN           NaN           NaN   \n",
       "P0005                NaN           NaN           NaN           NaN   \n",
       "\n",
       "            Unnamed: 179  Unnamed: 180  Unnamed: 181  \n",
       "Patient ID                                            \n",
       "P0001                NaN           NaN           NaN  \n",
       "P0002                NaN           NaN           NaN  \n",
       "P0003                NaN           NaN           NaN  \n",
       "P0004                NaN           NaN           NaN  \n",
       "P0005                NaN           NaN           NaN  \n",
       "\n",
       "[5 rows x 181 columns]"
      ]
     },
     "execution_count": 190,
     "metadata": {},
     "output_type": "execute_result"
    }
   ],
   "source": [
    "music_study = pd.read_csv(\"C:/Users/jaspr/Desktop/Jaspreet/Miscellaneous/Books/Coding_Books/Studies/MUSIC/subject-info.csv\", index_col= \"Patient ID\", sep = \";\")\n",
    "music_study.head()"
   ]
  },
  {
   "cell_type": "code",
   "execution_count": 191,
   "id": "0fff0d11",
   "metadata": {},
   "outputs": [
    {
     "data": {
      "text/plain": [
       "['Follow-up period from enrollment (days)',\n",
       " 'days_4years',\n",
       " 'Exit of the study',\n",
       " 'Cause of death',\n",
       " 'SCD_4years SinusRhythm',\n",
       " 'HF_4years SinusRhythm',\n",
       " 'Age',\n",
       " 'Gender (male=1)',\n",
       " 'Weight (kg)',\n",
       " 'Height (cm)',\n",
       " 'Body Mass Index (Kg/m2)',\n",
       " 'NYHA class',\n",
       " 'Diastolic blood  pressure (mmHg)',\n",
       " 'Systolic blood pressure (mmHg)',\n",
       " 'HF etiology - Diagnosis',\n",
       " 'Diabetes (yes=1)',\n",
       " 'History of dyslipemia (yes=1)',\n",
       " 'Peripheral vascular disease (yes=1)',\n",
       " 'History of hypertension (yes=1)',\n",
       " 'Prior Myocardial Infarction (yes=1)',\n",
       " 'Prior implantable device',\n",
       " 'Prior Revascularization',\n",
       " 'Syncope',\n",
       " 'daily smoking (cigarretes/day)',\n",
       " 'smoke-free time (years)',\n",
       " 'cigarettes /year',\n",
       " 'alcohol consumption (standard units)',\n",
       " 'Albumin (g/L)',\n",
       " 'ALT or GPT (IU/L)',\n",
       " 'AST or GOT (IU/L)',\n",
       " 'Normalized Troponin',\n",
       " 'Total Cholesterol (mmol/L)',\n",
       " 'Creatinine (?mol/L)',\n",
       " 'Gamma-glutamil transpeptidase (IU/L)',\n",
       " 'Glucose (mmol/L)',\n",
       " 'Hemoglobin (g/L)',\n",
       " 'HDL (mmol/L)',\n",
       " 'Potassium (mEq/L)',\n",
       " 'LDL (mmol/L)',\n",
       " 'Sodium (mEq/L)',\n",
       " 'Pro-BNP (ng/L)',\n",
       " 'Protein (g/L)',\n",
       " 'T3 (pg/dL)',\n",
       " 'T4 (ng/L)',\n",
       " 'Troponin (ng/mL)',\n",
       " 'TSH (mIU/L)',\n",
       " 'Urea (mg/dL)',\n",
       " 'Signs of pulmonary venous hypertension (yes=1)',\n",
       " 'Cardiothoracic ratio',\n",
       " 'Left atrial size (mm)',\n",
       " 'Right ventricle contractility (altered=1)',\n",
       " 'Right ventricle end-diastolic diameter (mm)',\n",
       " 'LVEF (%)',\n",
       " 'Mitral valve insufficiency ',\n",
       " 'Mitral flow pattern',\n",
       " 'Left ventricular posterior wall thickness (mm)',\n",
       " 'Septal thickness (mm)',\n",
       " 'Left ventricle end-diastolic diameter (mm)',\n",
       " 'Left ventricle end-systolic diameter (mm)',\n",
       " 'Hig-resolution ECG available',\n",
       " 'ECG rhythm ',\n",
       " 'Q-waves (necrosis, yes=1)',\n",
       " 'PR interval (ms)',\n",
       " 'QRS duration (ms)',\n",
       " 'QRS > 120 ms ',\n",
       " 'QT interval (ms)',\n",
       " 'QT corrected ',\n",
       " 'Average RR (ms) ',\n",
       " 'Left ventricular hypertrophy (yes=1)',\n",
       " 'Intraventricular conduction disorder',\n",
       " 'Holter available',\n",
       " 'Holter onset (hh:mm:ss)',\n",
       " 'Holter  rhythm ',\n",
       " 'minimum RR (ms) ',\n",
       " 'Average RR (ms)',\n",
       " 'maximum RR (ms)',\n",
       " 'RR range (ms)',\n",
       " 'Number of ventricular premature beats in 24h',\n",
       " 'Extrasystole couplets ',\n",
       " 'Ventricular Extrasystole',\n",
       " 'Ventricular Tachycardia',\n",
       " 'Number of ventricular premature contractions per hour',\n",
       " 'Non-sustained ventricular tachycardia (CH>10)',\n",
       " 'Number of supraventricular premature beats in 24h',\n",
       " 'Paroxysmal supraventricular tachyarrhythmia',\n",
       " 'Longest RR pause (ms)',\n",
       " 'Bradycardia',\n",
       " 'SDNN (ms)',\n",
       " 'SDANN (ms)',\n",
       " 'RMSSD (ms)',\n",
       " 'pNN50 (%)',\n",
       " 'Calcium channel blocker (yes=1)',\n",
       " 'Diabetes medication (yes=1)',\n",
       " 'Amiodarone (yes=1)',\n",
       " 'Angiotensin-II receptor blocker (yes=1)',\n",
       " 'Anticoagulants/antitrombotics  (yes=1)',\n",
       " 'Betablockers (yes=1)',\n",
       " 'Digoxin (yes=1)',\n",
       " 'Loop diuretics (yes=1)',\n",
       " 'Spironolactone (yes=1)',\n",
       " 'Statins (yes=1)',\n",
       " 'Hidralazina (yes=1)',\n",
       " 'ACE inhibitor (yes=1)',\n",
       " 'Nitrovasodilator (yes=1)']"
      ]
     },
     "execution_count": 191,
     "metadata": {},
     "output_type": "execute_result"
    }
   ],
   "source": [
    "data = music_study.iloc[:, 0:104]\n",
    "data.columns.tolist()"
   ]
  },
  {
   "cell_type": "code",
   "execution_count": 192,
   "id": "ec66c2f0",
   "metadata": {},
   "outputs": [
    {
     "data": {
      "text/plain": [
       "Follow-up period from enrollment (days)      0\n",
       "days_4years                                  0\n",
       "Exit of the study                          695\n",
       "Cause of death                               0\n",
       "SCD_4years SinusRhythm                       0\n",
       "                                          ... \n",
       "Spironolactone (yes=1)                       0\n",
       "Statins (yes=1)                              0\n",
       "Hidralazina (yes=1)                          0\n",
       "ACE inhibitor (yes=1)                        0\n",
       "Nitrovasodilator (yes=1)                     0\n",
       "Length: 104, dtype: int64"
      ]
     },
     "execution_count": 192,
     "metadata": {},
     "output_type": "execute_result"
    }
   ],
   "source": [
    "data.isna().sum()"
   ]
  },
  {
   "cell_type": "code",
   "execution_count": 193,
   "id": "87ea19b2",
   "metadata": {},
   "outputs": [
    {
     "data": {
      "text/plain": [
       "71    46\n",
       "73    44\n",
       "72    44\n",
       "69    42\n",
       "58    37\n",
       "      ..\n",
       "90     1\n",
       "18     1\n",
       "26     1\n",
       "23     1\n",
       "87     1\n",
       "Name: Age, Length: 63, dtype: int64"
      ]
     },
     "execution_count": 193,
     "metadata": {},
     "output_type": "execute_result"
    }
   ],
   "source": [
    "# data['Age'].dtype\n",
    "# Using masking to assign new value to Series with dtype Int64\n",
    "# data.Age[data['Age'] == '>89'] = 90\n",
    "# Using str.replace method to assign new value to Series with dtype Object\n",
    "data['Age'] = data['Age'].str.replace('>89', '90')\n",
    "data['Age'].dtype\n",
    "data['Age'].value_counts()"
   ]
  },
  {
   "cell_type": "code",
   "execution_count": 194,
   "id": "8e1d60c3",
   "metadata": {},
   "outputs": [
    {
     "data": {
      "text/plain": [
       "0.0    695\n",
       "3.0    266\n",
       "2.0     20\n",
       "1.0     11\n",
       "Name: Exit of the study, dtype: int64"
      ]
     },
     "execution_count": 194,
     "metadata": {},
     "output_type": "execute_result"
    }
   ],
   "source": [
    "pd.value_counts(data['Exit of the study'].fillna(0))"
   ]
  },
  {
   "cell_type": "code",
   "execution_count": 195,
   "id": "6d3e32b6",
   "metadata": {},
   "outputs": [],
   "source": [
    "# Rename columns (creates transformed dataframe wihout changing the original dataframe)\n",
    "# data = data.rename(columns = {'Gender (male=1)': 'Gender', 'LVEF (%)': 'LVEF'})\n",
    "# data.loc[data.Gender == 1, 'Gender'] = \"Male\"\n",
    "# data.loc[data['Gender'] == 0, 'Gender'] = \"Female\"\n",
    "# data.head()"
   ]
  },
  {
   "cell_type": "code",
   "execution_count": 196,
   "id": "9d8b8de3",
   "metadata": {},
   "outputs": [],
   "source": [
    "# pd.value_counts(data['Gender'], dropna=False)"
   ]
  },
  {
   "cell_type": "code",
   "execution_count": 197,
   "id": "6d34bf09",
   "metadata": {},
   "outputs": [
    {
     "data": {
      "text/plain": [
       "39    1\n",
       "40    1\n",
       "43    1\n",
       "44    1\n",
       "45    2\n",
       "51    2\n",
       "57    1\n",
       "58    3\n",
       "65    2\n",
       "66    1\n",
       "71    1\n",
       "Name: Age, dtype: int64"
      ]
     },
     "execution_count": 197,
     "metadata": {},
     "output_type": "execute_result"
    }
   ],
   "source": [
    "# To select rows from a dataframe column or index using Boolean masking\n",
    "data.Age[data['Weight (kg)'] > 110].value_counts().sort_index()"
   ]
  },
  {
   "cell_type": "code",
   "execution_count": 198,
   "id": "f4caba24",
   "metadata": {},
   "outputs": [],
   "source": [
    "# Selecting columns \n",
    "# data1 = data.loc[:, ['Age', 'Gender', 'Weight (kg)', 'Height (cm)', 'Body Mass Index (Kg/m2)', 'NYHA class', \n",
    "#                      'Diastolic blood  pressure (mmHg)', 'Systolic blood pressure (mmHg)', 'HF etiology - Diagnosis',\n",
    "#                      'Diabetes (yes=1)']]\n",
    "# # Modifying the columns or index attribute in place\n",
    "# data1.columns = ['Age', 'Gender', 'Weight(kg)', 'Height(cm)', 'BMI(Kg/m2)', 'NYHA class', \n",
    "#                      'DBP(mmHg)', 'SBP(mmHg)', 'HF', 'Diabetes']\n",
    "# # Replacing comma with decimal point and change the dataframe column/Series to numeric object\n",
    "# data1['BMI(Kg/m2)'] = pd.to_numeric(data1['BMI(Kg/m2)'].str.replace(',', '.'))\n",
    "# # Replacing string and change the dataframe column/Series to categorical type\n",
    "# data1['Age'] = (data1['Age'].str.replace('>89', '90')).astype('category')"
   ]
  },
  {
   "cell_type": "code",
   "execution_count": 199,
   "id": "afce89bb",
   "metadata": {},
   "outputs": [],
   "source": [
    "# data2 = data1.pivot_table(index=['Age', \"Gender\"], columns= ['NYHA class'], \n",
    "#                          values= ['BMI(Kg/m2)', 'DBP(mmHg)', 'SBP(mmHg)'],\n",
    "#                          aggfunc=['max', 'min'], fill_value= 0, margins=False).dropna()\n"
   ]
  },
  {
   "cell_type": "code",
   "execution_count": 200,
   "id": "a5b1e71e",
   "metadata": {},
   "outputs": [],
   "source": [
    "# # Using IndexSlice object to select the lower levels\n",
    "# idx = pd.IndexSlice\n",
    "# data2.loc[idx[:, 'Female'], idx[:, 'BMI(Kg/m2)']]"
   ]
  },
  {
   "cell_type": "code",
   "execution_count": 201,
   "id": "9d10df57",
   "metadata": {},
   "outputs": [
    {
     "data": {
      "text/plain": [
       "dtype('O')"
      ]
     },
     "execution_count": 201,
     "metadata": {},
     "output_type": "execute_result"
    }
   ],
   "source": [
    "# Checking dtype of the columns\n",
    "data.Age.dtype"
   ]
  },
  {
   "cell_type": "code",
   "execution_count": 202,
   "id": "7dbba4d1",
   "metadata": {},
   "outputs": [],
   "source": [
    "data['Age'] = data['Age'].astype('Int64')\n",
    "# data['LVEF'] = data['LVEF'].fillna(0).astype('Int64')\n",
    "age_median = data['Age'].median()\n",
    "# lvef_median = data['LVEF'].median()\n",
    "# data.LVEF.dtype"
   ]
  },
  {
   "cell_type": "code",
   "execution_count": 203,
   "id": "405636be",
   "metadata": {},
   "outputs": [
    {
     "data": {
      "text/plain": [
       "1460    703\n",
       "304       3\n",
       "475       3\n",
       "248       3\n",
       "215       3\n",
       "       ... \n",
       "110       1\n",
       "1269      1\n",
       "892       1\n",
       "651       1\n",
       "1365      1\n",
       "Name: days_4years, Length: 253, dtype: int64"
      ]
     },
     "execution_count": 203,
     "metadata": {},
     "output_type": "execute_result"
    }
   ],
   "source": [
    "data['days_4years'].value_counts()"
   ]
  },
  {
   "cell_type": "code",
   "execution_count": 204,
   "id": "4a623148",
   "metadata": {},
   "outputs": [
    {
     "data": {
      "text/plain": [
       "Stage3    266\n",
       "Stage2     20\n",
       "Stage1     11\n",
       "Name: Study_completion_stage, dtype: int64"
      ]
     },
     "execution_count": 204,
     "metadata": {},
     "output_type": "execute_result"
    }
   ],
   "source": [
    "# Use Series map function to create a column. Use both dict and function\n",
    "study_status = {1:'Stage1', 2:'Stage2', 3:'Stage3', None: 'uncomplete', 'missing':'uncomplete'}\n",
    "data['Study_completion_stage'] = data['Exit of the study'].map(study_status)\n",
    "data['Study_completion_stage'].value_counts()"
   ]
  },
  {
   "cell_type": "code",
   "execution_count": 205,
   "id": "ab65033b",
   "metadata": {},
   "outputs": [
    {
     "data": {
      "text/plain": [
       "uncomplete    695\n",
       "Stage3        266\n",
       "Stage2         20\n",
       "Stage1         11\n",
       "Name: Study_completion_stage, dtype: int64"
      ]
     },
     "execution_count": 205,
     "metadata": {},
     "output_type": "execute_result"
    }
   ],
   "source": [
    "def status(x):\n",
    "    return study_status[x]\n",
    "data['Study_completion_stage'] = (data['Exit of the study'].fillna('missing')).map(status)\n",
    "data['Study_completion_stage'].value_counts()"
   ]
  },
  {
   "cell_type": "code",
   "execution_count": 206,
   "id": "2ed25e8f",
   "metadata": {},
   "outputs": [],
   "source": [
    "data_model = music_study.loc[:, [ 'Age', 'Gender (male=1)', 'Weight (kg)', 'Height (cm)', 'Body Mass Index (Kg/m2)', 'NYHA class',\n",
    " 'Diastolic blood  pressure (mmHg)', 'Systolic blood pressure (mmHg)', 'HF etiology - Diagnosis', 'Diabetes (yes=1)',\n",
    " 'History of dyslipemia (yes=1)', 'Left atrial size (mm)', 'Right ventricle contractility (altered=1)',\n",
    " 'Right ventricle end-diastolic diameter (mm)', 'LVEF (%)', 'Left ventricular posterior wall thickness (mm)',\n",
    " 'Septal thickness (mm)', 'Left ventricle end-diastolic diameter (mm)', 'Left ventricle end-systolic diameter (mm)']]"
   ]
  },
  {
   "cell_type": "code",
   "execution_count": 207,
   "id": "9d6cb396",
   "metadata": {},
   "outputs": [
    {
     "data": {
      "text/html": [
       "<div>\n",
       "<style scoped>\n",
       "    .dataframe tbody tr th:only-of-type {\n",
       "        vertical-align: middle;\n",
       "    }\n",
       "\n",
       "    .dataframe tbody tr th {\n",
       "        vertical-align: top;\n",
       "    }\n",
       "\n",
       "    .dataframe thead th {\n",
       "        text-align: right;\n",
       "    }\n",
       "</style>\n",
       "<table border=\"1\" class=\"dataframe\">\n",
       "  <thead>\n",
       "    <tr style=\"text-align: right;\">\n",
       "      <th></th>\n",
       "      <th>Age</th>\n",
       "      <th>Gender</th>\n",
       "      <th>Weight(kg)</th>\n",
       "      <th>Height(cm)</th>\n",
       "      <th>BMI(Kg/m2)</th>\n",
       "      <th>NYHAclass</th>\n",
       "      <th>DBP(mmHg)</th>\n",
       "      <th>SBP(mmHg)</th>\n",
       "      <th>HF</th>\n",
       "      <th>Diabetes</th>\n",
       "      <th>Dyslipemia</th>\n",
       "      <th>Left_atrial_size(mm)</th>\n",
       "      <th>Right_ventricle_contractility_altered</th>\n",
       "      <th>RVEDD(mm)</th>\n",
       "      <th>LVEF(%)</th>\n",
       "      <th>LVPWT(mm)</th>\n",
       "      <th>Septal_thickness(mm)</th>\n",
       "      <th>LVEDD(mm)</th>\n",
       "      <th>LVESD(mm)</th>\n",
       "    </tr>\n",
       "    <tr>\n",
       "      <th>Patient ID</th>\n",
       "      <th></th>\n",
       "      <th></th>\n",
       "      <th></th>\n",
       "      <th></th>\n",
       "      <th></th>\n",
       "      <th></th>\n",
       "      <th></th>\n",
       "      <th></th>\n",
       "      <th></th>\n",
       "      <th></th>\n",
       "      <th></th>\n",
       "      <th></th>\n",
       "      <th></th>\n",
       "      <th></th>\n",
       "      <th></th>\n",
       "      <th></th>\n",
       "      <th></th>\n",
       "      <th></th>\n",
       "      <th></th>\n",
       "    </tr>\n",
       "  </thead>\n",
       "  <tbody>\n",
       "    <tr>\n",
       "      <th>P0001</th>\n",
       "      <td>58</td>\n",
       "      <td>1</td>\n",
       "      <td>83</td>\n",
       "      <td>163</td>\n",
       "      <td>31,2</td>\n",
       "      <td>3</td>\n",
       "      <td>75</td>\n",
       "      <td>110</td>\n",
       "      <td>1</td>\n",
       "      <td>0</td>\n",
       "      <td>0</td>\n",
       "      <td>50.0</td>\n",
       "      <td>0.0</td>\n",
       "      <td>24.0</td>\n",
       "      <td>35.0</td>\n",
       "      <td>10.0</td>\n",
       "      <td>10.0</td>\n",
       "      <td>72.0</td>\n",
       "      <td>60.0</td>\n",
       "    </tr>\n",
       "    <tr>\n",
       "      <th>P0002</th>\n",
       "      <td>58</td>\n",
       "      <td>1</td>\n",
       "      <td>74</td>\n",
       "      <td>160</td>\n",
       "      <td>28,9</td>\n",
       "      <td>2</td>\n",
       "      <td>80</td>\n",
       "      <td>130</td>\n",
       "      <td>2</td>\n",
       "      <td>0</td>\n",
       "      <td>1</td>\n",
       "      <td>39.0</td>\n",
       "      <td>0.0</td>\n",
       "      <td>24.0</td>\n",
       "      <td>35.0</td>\n",
       "      <td>12.0</td>\n",
       "      <td>14.0</td>\n",
       "      <td>54.0</td>\n",
       "      <td>38.0</td>\n",
       "    </tr>\n",
       "    <tr>\n",
       "      <th>P0003</th>\n",
       "      <td>69</td>\n",
       "      <td>1</td>\n",
       "      <td>83</td>\n",
       "      <td>174</td>\n",
       "      <td>27,4</td>\n",
       "      <td>2</td>\n",
       "      <td>75</td>\n",
       "      <td>100</td>\n",
       "      <td>1</td>\n",
       "      <td>0</td>\n",
       "      <td>0</td>\n",
       "      <td>41.0</td>\n",
       "      <td>0.0</td>\n",
       "      <td>20.0</td>\n",
       "      <td>39.0</td>\n",
       "      <td>9.0</td>\n",
       "      <td>10.0</td>\n",
       "      <td>55.0</td>\n",
       "      <td>44.0</td>\n",
       "    </tr>\n",
       "    <tr>\n",
       "      <th>P0004</th>\n",
       "      <td>56</td>\n",
       "      <td>0</td>\n",
       "      <td>84</td>\n",
       "      <td>165</td>\n",
       "      <td>30,9</td>\n",
       "      <td>2</td>\n",
       "      <td>75</td>\n",
       "      <td>155</td>\n",
       "      <td>8</td>\n",
       "      <td>1</td>\n",
       "      <td>1</td>\n",
       "      <td>43.0</td>\n",
       "      <td>0.0</td>\n",
       "      <td>24.0</td>\n",
       "      <td>38.0</td>\n",
       "      <td>13.0</td>\n",
       "      <td>11.0</td>\n",
       "      <td>56.0</td>\n",
       "      <td>46.0</td>\n",
       "    </tr>\n",
       "    <tr>\n",
       "      <th>P0005</th>\n",
       "      <td>70</td>\n",
       "      <td>1</td>\n",
       "      <td>97</td>\n",
       "      <td>183</td>\n",
       "      <td>29</td>\n",
       "      <td>2</td>\n",
       "      <td>85</td>\n",
       "      <td>125</td>\n",
       "      <td>2</td>\n",
       "      <td>1</td>\n",
       "      <td>1</td>\n",
       "      <td>55.0</td>\n",
       "      <td>0.0</td>\n",
       "      <td>25.0</td>\n",
       "      <td>34.0</td>\n",
       "      <td>11.0</td>\n",
       "      <td>11.0</td>\n",
       "      <td>73.0</td>\n",
       "      <td>67.0</td>\n",
       "    </tr>\n",
       "  </tbody>\n",
       "</table>\n",
       "</div>"
      ],
      "text/plain": [
       "           Age  Gender  Weight(kg)  Height(cm) BMI(Kg/m2)  NYHAclass  \\\n",
       "Patient ID                                                             \n",
       "P0001       58       1          83         163       31,2          3   \n",
       "P0002       58       1          74         160       28,9          2   \n",
       "P0003       69       1          83         174       27,4          2   \n",
       "P0004       56       0          84         165       30,9          2   \n",
       "P0005       70       1          97         183         29          2   \n",
       "\n",
       "            DBP(mmHg)  SBP(mmHg)  HF  Diabetes  Dyslipemia  \\\n",
       "Patient ID                                                   \n",
       "P0001              75        110   1         0           0   \n",
       "P0002              80        130   2         0           1   \n",
       "P0003              75        100   1         0           0   \n",
       "P0004              75        155   8         1           1   \n",
       "P0005              85        125   2         1           1   \n",
       "\n",
       "            Left_atrial_size(mm)  Right_ventricle_contractility_altered  \\\n",
       "Patient ID                                                                \n",
       "P0001                       50.0                                    0.0   \n",
       "P0002                       39.0                                    0.0   \n",
       "P0003                       41.0                                    0.0   \n",
       "P0004                       43.0                                    0.0   \n",
       "P0005                       55.0                                    0.0   \n",
       "\n",
       "            RVEDD(mm)  LVEF(%)  LVPWT(mm)  Septal_thickness(mm)  LVEDD(mm)  \\\n",
       "Patient ID                                                                   \n",
       "P0001            24.0     35.0       10.0                  10.0       72.0   \n",
       "P0002            24.0     35.0       12.0                  14.0       54.0   \n",
       "P0003            20.0     39.0        9.0                  10.0       55.0   \n",
       "P0004            24.0     38.0       13.0                  11.0       56.0   \n",
       "P0005            25.0     34.0       11.0                  11.0       73.0   \n",
       "\n",
       "            LVESD(mm)  \n",
       "Patient ID             \n",
       "P0001            60.0  \n",
       "P0002            38.0  \n",
       "P0003            44.0  \n",
       "P0004            46.0  \n",
       "P0005            67.0  "
      ]
     },
     "execution_count": 207,
     "metadata": {},
     "output_type": "execute_result"
    }
   ],
   "source": [
    "data_model.columns = [ 'Age', 'Gender', 'Weight(kg)', 'Height(cm)', 'BMI(Kg/m2)', 'NYHAclass',\n",
    " 'DBP(mmHg)', 'SBP(mmHg)', 'HF', 'Diabetes', 'Dyslipemia', 'Left_atrial_size(mm)', 'Right_ventricle_contractility_altered',\n",
    " 'RVEDD(mm)', 'LVEF(%)', 'LVPWT(mm)', 'Septal_thickness(mm)', 'LVEDD(mm)', 'LVESD(mm)']\n",
    "data_model.head()"
   ]
  },
  {
   "cell_type": "code",
   "execution_count": 208,
   "id": "aac990f9",
   "metadata": {},
   "outputs": [
    {
     "data": {
      "text/plain": [
       "Patient ID\n",
       "P0167    >89\n",
       "Name: Age, dtype: object"
      ]
     },
     "execution_count": 208,
     "metadata": {},
     "output_type": "execute_result"
    }
   ],
   "source": [
    "data_model.Age[data_model['Age'] == '>89'] "
   ]
  },
  {
   "cell_type": "code",
   "execution_count": 209,
   "id": "5c1996ba",
   "metadata": {},
   "outputs": [
    {
     "data": {
      "text/plain": [
       "Patient ID\n",
       "P0167    90\n",
       "Name: Age, dtype: object"
      ]
     },
     "execution_count": 209,
     "metadata": {},
     "output_type": "execute_result"
    }
   ],
   "source": [
    "data_model['Age'] = data_model['Age'].str.replace('>89', '90')\n",
    "data_model.Age[data_model['Age'] == '90'] "
   ]
  },
  {
   "cell_type": "code",
   "execution_count": 210,
   "id": "79515006",
   "metadata": {
    "scrolled": true
   },
   "outputs": [
    {
     "data": {
      "text/html": [
       "<div>\n",
       "<style scoped>\n",
       "    .dataframe tbody tr th:only-of-type {\n",
       "        vertical-align: middle;\n",
       "    }\n",
       "\n",
       "    .dataframe tbody tr th {\n",
       "        vertical-align: top;\n",
       "    }\n",
       "\n",
       "    .dataframe thead th {\n",
       "        text-align: right;\n",
       "    }\n",
       "</style>\n",
       "<table border=\"1\" class=\"dataframe\">\n",
       "  <thead>\n",
       "    <tr style=\"text-align: right;\">\n",
       "      <th></th>\n",
       "      <th>Age</th>\n",
       "      <th>Gender</th>\n",
       "      <th>Weight(kg)</th>\n",
       "      <th>Height(cm)</th>\n",
       "      <th>BMI(Kg/m2)</th>\n",
       "      <th>NYHAclass</th>\n",
       "      <th>DBP(mmHg)</th>\n",
       "      <th>SBP(mmHg)</th>\n",
       "      <th>HF</th>\n",
       "      <th>Diabetes</th>\n",
       "      <th>Dyslipemia</th>\n",
       "      <th>Left_atrial_size(mm)</th>\n",
       "      <th>Right_ventricle_contractility_altered</th>\n",
       "      <th>RVEDD(mm)</th>\n",
       "      <th>LVEF(%)</th>\n",
       "      <th>LVPWT(mm)</th>\n",
       "      <th>Septal_thickness(mm)</th>\n",
       "      <th>LVEDD(mm)</th>\n",
       "      <th>LVESD(mm)</th>\n",
       "    </tr>\n",
       "    <tr>\n",
       "      <th>Patient ID</th>\n",
       "      <th></th>\n",
       "      <th></th>\n",
       "      <th></th>\n",
       "      <th></th>\n",
       "      <th></th>\n",
       "      <th></th>\n",
       "      <th></th>\n",
       "      <th></th>\n",
       "      <th></th>\n",
       "      <th></th>\n",
       "      <th></th>\n",
       "      <th></th>\n",
       "      <th></th>\n",
       "      <th></th>\n",
       "      <th></th>\n",
       "      <th></th>\n",
       "      <th></th>\n",
       "      <th></th>\n",
       "      <th></th>\n",
       "    </tr>\n",
       "  </thead>\n",
       "  <tbody>\n",
       "    <tr>\n",
       "      <th>P0001</th>\n",
       "      <td>58</td>\n",
       "      <td>1</td>\n",
       "      <td>83</td>\n",
       "      <td>163</td>\n",
       "      <td>31.2</td>\n",
       "      <td>3</td>\n",
       "      <td>75</td>\n",
       "      <td>110</td>\n",
       "      <td>1</td>\n",
       "      <td>0</td>\n",
       "      <td>0</td>\n",
       "      <td>50.0</td>\n",
       "      <td>0.0</td>\n",
       "      <td>24.0</td>\n",
       "      <td>35.0</td>\n",
       "      <td>10.0</td>\n",
       "      <td>10.0</td>\n",
       "      <td>72.0</td>\n",
       "      <td>60.0</td>\n",
       "    </tr>\n",
       "    <tr>\n",
       "      <th>P0002</th>\n",
       "      <td>58</td>\n",
       "      <td>1</td>\n",
       "      <td>74</td>\n",
       "      <td>160</td>\n",
       "      <td>28.9</td>\n",
       "      <td>2</td>\n",
       "      <td>80</td>\n",
       "      <td>130</td>\n",
       "      <td>2</td>\n",
       "      <td>0</td>\n",
       "      <td>1</td>\n",
       "      <td>39.0</td>\n",
       "      <td>0.0</td>\n",
       "      <td>24.0</td>\n",
       "      <td>35.0</td>\n",
       "      <td>12.0</td>\n",
       "      <td>14.0</td>\n",
       "      <td>54.0</td>\n",
       "      <td>38.0</td>\n",
       "    </tr>\n",
       "    <tr>\n",
       "      <th>P0003</th>\n",
       "      <td>69</td>\n",
       "      <td>1</td>\n",
       "      <td>83</td>\n",
       "      <td>174</td>\n",
       "      <td>27.4</td>\n",
       "      <td>2</td>\n",
       "      <td>75</td>\n",
       "      <td>100</td>\n",
       "      <td>1</td>\n",
       "      <td>0</td>\n",
       "      <td>0</td>\n",
       "      <td>41.0</td>\n",
       "      <td>0.0</td>\n",
       "      <td>20.0</td>\n",
       "      <td>39.0</td>\n",
       "      <td>9.0</td>\n",
       "      <td>10.0</td>\n",
       "      <td>55.0</td>\n",
       "      <td>44.0</td>\n",
       "    </tr>\n",
       "    <tr>\n",
       "      <th>P0004</th>\n",
       "      <td>56</td>\n",
       "      <td>0</td>\n",
       "      <td>84</td>\n",
       "      <td>165</td>\n",
       "      <td>30.9</td>\n",
       "      <td>2</td>\n",
       "      <td>75</td>\n",
       "      <td>155</td>\n",
       "      <td>8</td>\n",
       "      <td>1</td>\n",
       "      <td>1</td>\n",
       "      <td>43.0</td>\n",
       "      <td>0.0</td>\n",
       "      <td>24.0</td>\n",
       "      <td>38.0</td>\n",
       "      <td>13.0</td>\n",
       "      <td>11.0</td>\n",
       "      <td>56.0</td>\n",
       "      <td>46.0</td>\n",
       "    </tr>\n",
       "    <tr>\n",
       "      <th>P0005</th>\n",
       "      <td>70</td>\n",
       "      <td>1</td>\n",
       "      <td>97</td>\n",
       "      <td>183</td>\n",
       "      <td>29</td>\n",
       "      <td>2</td>\n",
       "      <td>85</td>\n",
       "      <td>125</td>\n",
       "      <td>2</td>\n",
       "      <td>1</td>\n",
       "      <td>1</td>\n",
       "      <td>55.0</td>\n",
       "      <td>0.0</td>\n",
       "      <td>25.0</td>\n",
       "      <td>34.0</td>\n",
       "      <td>11.0</td>\n",
       "      <td>11.0</td>\n",
       "      <td>73.0</td>\n",
       "      <td>67.0</td>\n",
       "    </tr>\n",
       "  </tbody>\n",
       "</table>\n",
       "</div>"
      ],
      "text/plain": [
       "           Age  Gender  Weight(kg)  Height(cm) BMI(Kg/m2)  NYHAclass  \\\n",
       "Patient ID                                                             \n",
       "P0001       58       1          83         163       31.2          3   \n",
       "P0002       58       1          74         160       28.9          2   \n",
       "P0003       69       1          83         174       27.4          2   \n",
       "P0004       56       0          84         165       30.9          2   \n",
       "P0005       70       1          97         183         29          2   \n",
       "\n",
       "            DBP(mmHg)  SBP(mmHg)  HF  Diabetes  Dyslipemia  \\\n",
       "Patient ID                                                   \n",
       "P0001              75        110   1         0           0   \n",
       "P0002              80        130   2         0           1   \n",
       "P0003              75        100   1         0           0   \n",
       "P0004              75        155   8         1           1   \n",
       "P0005              85        125   2         1           1   \n",
       "\n",
       "            Left_atrial_size(mm)  Right_ventricle_contractility_altered  \\\n",
       "Patient ID                                                                \n",
       "P0001                       50.0                                    0.0   \n",
       "P0002                       39.0                                    0.0   \n",
       "P0003                       41.0                                    0.0   \n",
       "P0004                       43.0                                    0.0   \n",
       "P0005                       55.0                                    0.0   \n",
       "\n",
       "            RVEDD(mm)  LVEF(%)  LVPWT(mm)  Septal_thickness(mm)  LVEDD(mm)  \\\n",
       "Patient ID                                                                   \n",
       "P0001            24.0     35.0       10.0                  10.0       72.0   \n",
       "P0002            24.0     35.0       12.0                  14.0       54.0   \n",
       "P0003            20.0     39.0        9.0                  10.0       55.0   \n",
       "P0004            24.0     38.0       13.0                  11.0       56.0   \n",
       "P0005            25.0     34.0       11.0                  11.0       73.0   \n",
       "\n",
       "            LVESD(mm)  \n",
       "Patient ID             \n",
       "P0001            60.0  \n",
       "P0002            38.0  \n",
       "P0003            44.0  \n",
       "P0004            46.0  \n",
       "P0005            67.0  "
      ]
     },
     "execution_count": 210,
     "metadata": {},
     "output_type": "execute_result"
    }
   ],
   "source": [
    "data_model['BMI(Kg/m2)'] = data_model['BMI(Kg/m2)'].str.replace(',', '.')\n",
    "data_model.head()"
   ]
  },
  {
   "cell_type": "code",
   "execution_count": 211,
   "id": "45c47016",
   "metadata": {},
   "outputs": [],
   "source": [
    "data_model['Age'] = data_model['Age'].astype('int64')\n",
    "data_model['BMI(Kg/m2)'] = data_model['BMI(Kg/m2)'].astype('float64')"
   ]
  },
  {
   "cell_type": "code",
   "execution_count": 212,
   "id": "9a8aad4f",
   "metadata": {},
   "outputs": [
    {
     "name": "stdout",
     "output_type": "stream",
     "text": [
      "<class 'pandas.core.frame.DataFrame'>\n",
      "Index: 992 entries, P0001 to P1083\n",
      "Data columns (total 19 columns):\n",
      " #   Column                                 Non-Null Count  Dtype  \n",
      "---  ------                                 --------------  -----  \n",
      " 0   Age                                    992 non-null    int64  \n",
      " 1   Gender                                 992 non-null    int64  \n",
      " 2   Weight(kg)                             992 non-null    int64  \n",
      " 3   Height(cm)                             992 non-null    int64  \n",
      " 4   BMI(Kg/m2)                             992 non-null    float64\n",
      " 5   NYHAclass                              992 non-null    int64  \n",
      " 6   DBP(mmHg)                              992 non-null    int64  \n",
      " 7   SBP(mmHg)                              992 non-null    int64  \n",
      " 8   HF                                     992 non-null    int64  \n",
      " 9   Diabetes                               992 non-null    int64  \n",
      " 10  Dyslipemia                             992 non-null    int64  \n",
      " 11  Left_atrial_size(mm)                   982 non-null    float64\n",
      " 12  Right_ventricle_contractility_altered  974 non-null    float64\n",
      " 13  RVEDD(mm)                              873 non-null    float64\n",
      " 14  LVEF(%)                                989 non-null    float64\n",
      " 15  LVPWT(mm)                              972 non-null    float64\n",
      " 16  Septal_thickness(mm)                   972 non-null    float64\n",
      " 17  LVEDD(mm)                              985 non-null    float64\n",
      " 18  LVESD(mm)                              875 non-null    float64\n",
      "dtypes: float64(9), int64(10)\n",
      "memory usage: 155.0+ KB\n"
     ]
    }
   ],
   "source": [
    "data_model.info()"
   ]
  },
  {
   "cell_type": "code",
   "execution_count": 213,
   "id": "d5ec7d8a",
   "metadata": {},
   "outputs": [],
   "source": [
    "# X = data_model.drop(columns= ['Dyslipemia'])\n",
    "# y = data_model['Dyslipemia']"
   ]
  },
  {
   "cell_type": "code",
   "execution_count": 214,
   "id": "dec31ad6",
   "metadata": {},
   "outputs": [
    {
     "data": {
      "text/plain": [
       "Age                                        0\n",
       "Gender                                     0\n",
       "Weight(kg)                                 0\n",
       "Height(cm)                                 0\n",
       "BMI(Kg/m2)                                 0\n",
       "NYHAclass                                  0\n",
       "DBP(mmHg)                                  0\n",
       "SBP(mmHg)                                  0\n",
       "HF                                         0\n",
       "Diabetes                                   0\n",
       "Dyslipemia                                 0\n",
       "Left_atrial_size(mm)                      10\n",
       "Right_ventricle_contractility_altered     18\n",
       "RVEDD(mm)                                119\n",
       "LVEF(%)                                    3\n",
       "LVPWT(mm)                                 20\n",
       "Septal_thickness(mm)                      20\n",
       "LVEDD(mm)                                  7\n",
       "LVESD(mm)                                117\n",
       "dtype: int64"
      ]
     },
     "execution_count": 214,
     "metadata": {},
     "output_type": "execute_result"
    }
   ],
   "source": [
    "pd.isna(data_model).sum()"
   ]
  },
  {
   "cell_type": "code",
   "execution_count": 215,
   "id": "837e5822",
   "metadata": {},
   "outputs": [],
   "source": [
    "predictors = [ 'Age', 'Gender', 'Weight(kg)', 'Height(cm)', 'BMI(Kg/m2)', 'NYHAclass',\n",
    " 'DBP(mmHg)', 'SBP(mmHg)', 'HF', 'Diabetes']"
   ]
  },
  {
   "cell_type": "code",
   "execution_count": 216,
   "id": "5f4aef90",
   "metadata": {},
   "outputs": [
    {
     "data": {
      "text/plain": [
       "array([0, 1, 0, 1, 1, 0, 1, 1, 1, 1], dtype=int64)"
      ]
     },
     "execution_count": 216,
     "metadata": {},
     "output_type": "execute_result"
    }
   ],
   "source": [
    "X = data_model[predictors].to_numpy()\n",
    "y = data_model['Dyslipemia'].to_numpy()\n",
    "y[:10]"
   ]
  },
  {
   "cell_type": "code",
   "execution_count": 217,
   "id": "2bb74e55",
   "metadata": {},
   "outputs": [
    {
     "name": "stderr",
     "output_type": "stream",
     "text": [
      "C:\\Users\\jaspr\\anaconda3\\Lib\\site-packages\\sklearn\\linear_model\\_logistic.py:460: ConvergenceWarning: lbfgs failed to converge (status=1):\n",
      "STOP: TOTAL NO. of ITERATIONS REACHED LIMIT.\n",
      "\n",
      "Increase the number of iterations (max_iter) or scale the data as shown in:\n",
      "    https://scikit-learn.org/stable/modules/preprocessing.html\n",
      "Please also refer to the documentation for alternative solver options:\n",
      "    https://scikit-learn.org/stable/modules/linear_model.html#logistic-regression\n",
      "  n_iter_i = _check_optimize_result(\n",
      "C:\\Users\\jaspr\\anaconda3\\Lib\\site-packages\\sklearn\\linear_model\\_logistic.py:460: ConvergenceWarning: lbfgs failed to converge (status=1):\n",
      "STOP: TOTAL NO. of ITERATIONS REACHED LIMIT.\n",
      "\n",
      "Increase the number of iterations (max_iter) or scale the data as shown in:\n",
      "    https://scikit-learn.org/stable/modules/preprocessing.html\n",
      "Please also refer to the documentation for alternative solver options:\n",
      "    https://scikit-learn.org/stable/modules/linear_model.html#logistic-regression\n",
      "  n_iter_i = _check_optimize_result(\n",
      "C:\\Users\\jaspr\\anaconda3\\Lib\\site-packages\\sklearn\\linear_model\\_logistic.py:460: ConvergenceWarning: lbfgs failed to converge (status=1):\n",
      "STOP: TOTAL NO. of ITERATIONS REACHED LIMIT.\n",
      "\n",
      "Increase the number of iterations (max_iter) or scale the data as shown in:\n",
      "    https://scikit-learn.org/stable/modules/preprocessing.html\n",
      "Please also refer to the documentation for alternative solver options:\n",
      "    https://scikit-learn.org/stable/modules/linear_model.html#logistic-regression\n",
      "  n_iter_i = _check_optimize_result(\n"
     ]
    },
    {
     "data": {
      "text/html": [
       "<style>#sk-container-id-5 {color: black;}#sk-container-id-5 pre{padding: 0;}#sk-container-id-5 div.sk-toggleable {background-color: white;}#sk-container-id-5 label.sk-toggleable__label {cursor: pointer;display: block;width: 100%;margin-bottom: 0;padding: 0.3em;box-sizing: border-box;text-align: center;}#sk-container-id-5 label.sk-toggleable__label-arrow:before {content: \"▸\";float: left;margin-right: 0.25em;color: #696969;}#sk-container-id-5 label.sk-toggleable__label-arrow:hover:before {color: black;}#sk-container-id-5 div.sk-estimator:hover label.sk-toggleable__label-arrow:before {color: black;}#sk-container-id-5 div.sk-toggleable__content {max-height: 0;max-width: 0;overflow: hidden;text-align: left;background-color: #f0f8ff;}#sk-container-id-5 div.sk-toggleable__content pre {margin: 0.2em;color: black;border-radius: 0.25em;background-color: #f0f8ff;}#sk-container-id-5 input.sk-toggleable__control:checked~div.sk-toggleable__content {max-height: 200px;max-width: 100%;overflow: auto;}#sk-container-id-5 input.sk-toggleable__control:checked~label.sk-toggleable__label-arrow:before {content: \"▾\";}#sk-container-id-5 div.sk-estimator input.sk-toggleable__control:checked~label.sk-toggleable__label {background-color: #d4ebff;}#sk-container-id-5 div.sk-label input.sk-toggleable__control:checked~label.sk-toggleable__label {background-color: #d4ebff;}#sk-container-id-5 input.sk-hidden--visually {border: 0;clip: rect(1px 1px 1px 1px);clip: rect(1px, 1px, 1px, 1px);height: 1px;margin: -1px;overflow: hidden;padding: 0;position: absolute;width: 1px;}#sk-container-id-5 div.sk-estimator {font-family: monospace;background-color: #f0f8ff;border: 1px dotted black;border-radius: 0.25em;box-sizing: border-box;margin-bottom: 0.5em;}#sk-container-id-5 div.sk-estimator:hover {background-color: #d4ebff;}#sk-container-id-5 div.sk-parallel-item::after {content: \"\";width: 100%;border-bottom: 1px solid gray;flex-grow: 1;}#sk-container-id-5 div.sk-label:hover label.sk-toggleable__label {background-color: #d4ebff;}#sk-container-id-5 div.sk-serial::before {content: \"\";position: absolute;border-left: 1px solid gray;box-sizing: border-box;top: 0;bottom: 0;left: 50%;z-index: 0;}#sk-container-id-5 div.sk-serial {display: flex;flex-direction: column;align-items: center;background-color: white;padding-right: 0.2em;padding-left: 0.2em;position: relative;}#sk-container-id-5 div.sk-item {position: relative;z-index: 1;}#sk-container-id-5 div.sk-parallel {display: flex;align-items: stretch;justify-content: center;background-color: white;position: relative;}#sk-container-id-5 div.sk-item::before, #sk-container-id-5 div.sk-parallel-item::before {content: \"\";position: absolute;border-left: 1px solid gray;box-sizing: border-box;top: 0;bottom: 0;left: 50%;z-index: -1;}#sk-container-id-5 div.sk-parallel-item {display: flex;flex-direction: column;z-index: 1;position: relative;background-color: white;}#sk-container-id-5 div.sk-parallel-item:first-child::after {align-self: flex-end;width: 50%;}#sk-container-id-5 div.sk-parallel-item:last-child::after {align-self: flex-start;width: 50%;}#sk-container-id-5 div.sk-parallel-item:only-child::after {width: 0;}#sk-container-id-5 div.sk-dashed-wrapped {border: 1px dashed gray;margin: 0 0.4em 0.5em 0.4em;box-sizing: border-box;padding-bottom: 0.4em;background-color: white;}#sk-container-id-5 div.sk-label label {font-family: monospace;font-weight: bold;display: inline-block;line-height: 1.2em;}#sk-container-id-5 div.sk-label-container {text-align: center;}#sk-container-id-5 div.sk-container {/* jupyter's `normalize.less` sets `[hidden] { display: none; }` but bootstrap.min.css set `[hidden] { display: none !important; }` so we also need the `!important` here to be able to override the default hidden behavior on the sphinx rendered scikit-learn.org. See: https://github.com/scikit-learn/scikit-learn/issues/21755 */display: inline-block !important;position: relative;}#sk-container-id-5 div.sk-text-repr-fallback {display: none;}</style><div id=\"sk-container-id-5\" class=\"sk-top-container\"><div class=\"sk-text-repr-fallback\"><pre>LogisticRegressionCV()</pre><b>In a Jupyter environment, please rerun this cell to show the HTML representation or trust the notebook. <br />On GitHub, the HTML representation is unable to render, please try loading this page with nbviewer.org.</b></div><div class=\"sk-container\" hidden><div class=\"sk-item\"><div class=\"sk-estimator sk-toggleable\"><input class=\"sk-toggleable__control sk-hidden--visually\" id=\"sk-estimator-id-5\" type=\"checkbox\" checked><label for=\"sk-estimator-id-5\" class=\"sk-toggleable__label sk-toggleable__label-arrow\">LogisticRegressionCV</label><div class=\"sk-toggleable__content\"><pre>LogisticRegressionCV()</pre></div></div></div></div></div>"
      ],
      "text/plain": [
       "LogisticRegressionCV()"
      ]
     },
     "execution_count": 217,
     "metadata": {},
     "output_type": "execute_result"
    }
   ],
   "source": [
    "from sklearn.linear_model import LogisticRegressionCV\n",
    "model_cv = LogisticRegressionCV(Cs=10)\n",
    "model_cv.fit(X, y)"
   ]
  },
  {
   "cell_type": "code",
   "execution_count": 218,
   "id": "ecb0fa1a",
   "metadata": {},
   "outputs": [
    {
     "name": "stderr",
     "output_type": "stream",
     "text": [
      "C:\\Users\\jaspr\\anaconda3\\Lib\\site-packages\\sklearn\\linear_model\\_logistic.py:460: ConvergenceWarning: lbfgs failed to converge (status=1):\n",
      "STOP: TOTAL NO. of ITERATIONS REACHED LIMIT.\n",
      "\n",
      "Increase the number of iterations (max_iter) or scale the data as shown in:\n",
      "    https://scikit-learn.org/stable/modules/preprocessing.html\n",
      "Please also refer to the documentation for alternative solver options:\n",
      "    https://scikit-learn.org/stable/modules/linear_model.html#logistic-regression\n",
      "  n_iter_i = _check_optimize_result(\n",
      "C:\\Users\\jaspr\\anaconda3\\Lib\\site-packages\\sklearn\\linear_model\\_logistic.py:460: ConvergenceWarning: lbfgs failed to converge (status=1):\n",
      "STOP: TOTAL NO. of ITERATIONS REACHED LIMIT.\n",
      "\n",
      "Increase the number of iterations (max_iter) or scale the data as shown in:\n",
      "    https://scikit-learn.org/stable/modules/preprocessing.html\n",
      "Please also refer to the documentation for alternative solver options:\n",
      "    https://scikit-learn.org/stable/modules/linear_model.html#logistic-regression\n",
      "  n_iter_i = _check_optimize_result(\n",
      "C:\\Users\\jaspr\\anaconda3\\Lib\\site-packages\\sklearn\\linear_model\\_logistic.py:460: ConvergenceWarning: lbfgs failed to converge (status=1):\n",
      "STOP: TOTAL NO. of ITERATIONS REACHED LIMIT.\n",
      "\n",
      "Increase the number of iterations (max_iter) or scale the data as shown in:\n",
      "    https://scikit-learn.org/stable/modules/preprocessing.html\n",
      "Please also refer to the documentation for alternative solver options:\n",
      "    https://scikit-learn.org/stable/modules/linear_model.html#logistic-regression\n",
      "  n_iter_i = _check_optimize_result(\n",
      "C:\\Users\\jaspr\\anaconda3\\Lib\\site-packages\\sklearn\\linear_model\\_logistic.py:460: ConvergenceWarning: lbfgs failed to converge (status=1):\n",
      "STOP: TOTAL NO. of ITERATIONS REACHED LIMIT.\n",
      "\n",
      "Increase the number of iterations (max_iter) or scale the data as shown in:\n",
      "    https://scikit-learn.org/stable/modules/preprocessing.html\n",
      "Please also refer to the documentation for alternative solver options:\n",
      "    https://scikit-learn.org/stable/modules/linear_model.html#logistic-regression\n",
      "  n_iter_i = _check_optimize_result(\n"
     ]
    },
    {
     "data": {
      "text/plain": [
       "array([0.629 , 0.625 , 0.6008, 0.5806])"
      ]
     },
     "execution_count": 218,
     "metadata": {},
     "output_type": "execute_result"
    }
   ],
   "source": [
    "from sklearn.linear_model import LogisticRegression\n",
    "from sklearn.model_selection import cross_val_score\n",
    "model = LogisticRegression(C=10)\n",
    "scores = cross_val_score(model, X, y, cv=4)\n",
    "scores"
   ]
  },
  {
   "cell_type": "code",
   "execution_count": 219,
   "id": "fc8d00d6",
   "metadata": {},
   "outputs": [
    {
     "data": {
      "text/html": [
       "<div>\n",
       "<style scoped>\n",
       "    .dataframe tbody tr th:only-of-type {\n",
       "        vertical-align: middle;\n",
       "    }\n",
       "\n",
       "    .dataframe tbody tr th {\n",
       "        vertical-align: top;\n",
       "    }\n",
       "\n",
       "    .dataframe thead th {\n",
       "        text-align: right;\n",
       "    }\n",
       "</style>\n",
       "<table border=\"1\" class=\"dataframe\">\n",
       "  <thead>\n",
       "    <tr style=\"text-align: right;\">\n",
       "      <th></th>\n",
       "      <th>Age</th>\n",
       "      <th>Gender</th>\n",
       "      <th>Weight(kg)</th>\n",
       "      <th>Height(cm)</th>\n",
       "      <th>BMI(Kg/m2)</th>\n",
       "      <th>NYHAclass</th>\n",
       "      <th>DBP(mmHg)</th>\n",
       "      <th>SBP(mmHg)</th>\n",
       "      <th>HF</th>\n",
       "      <th>Diabetes</th>\n",
       "      <th>Dyslipemia</th>\n",
       "      <th>Left_atrial_size(mm)</th>\n",
       "      <th>Right_ventricle_contractility_altered</th>\n",
       "      <th>RVEDD(mm)</th>\n",
       "      <th>LVEF(%)</th>\n",
       "      <th>LVPWT(mm)</th>\n",
       "      <th>Septal_thickness(mm)</th>\n",
       "      <th>LVEDD(mm)</th>\n",
       "      <th>LVESD(mm)</th>\n",
       "    </tr>\n",
       "    <tr>\n",
       "      <th>Patient ID</th>\n",
       "      <th></th>\n",
       "      <th></th>\n",
       "      <th></th>\n",
       "      <th></th>\n",
       "      <th></th>\n",
       "      <th></th>\n",
       "      <th></th>\n",
       "      <th></th>\n",
       "      <th></th>\n",
       "      <th></th>\n",
       "      <th></th>\n",
       "      <th></th>\n",
       "      <th></th>\n",
       "      <th></th>\n",
       "      <th></th>\n",
       "      <th></th>\n",
       "      <th></th>\n",
       "      <th></th>\n",
       "      <th></th>\n",
       "    </tr>\n",
       "  </thead>\n",
       "  <tbody>\n",
       "    <tr>\n",
       "      <th>P0002</th>\n",
       "      <td>58</td>\n",
       "      <td>1</td>\n",
       "      <td>74</td>\n",
       "      <td>160</td>\n",
       "      <td>28.9</td>\n",
       "      <td>2</td>\n",
       "      <td>80</td>\n",
       "      <td>130</td>\n",
       "      <td>2</td>\n",
       "      <td>0</td>\n",
       "      <td>1</td>\n",
       "      <td>39.0</td>\n",
       "      <td>0.0</td>\n",
       "      <td>24.0</td>\n",
       "      <td>35.0</td>\n",
       "      <td>12.0</td>\n",
       "      <td>14.0</td>\n",
       "      <td>54.0</td>\n",
       "      <td>38.0</td>\n",
       "    </tr>\n",
       "    <tr>\n",
       "      <th>P0003</th>\n",
       "      <td>69</td>\n",
       "      <td>1</td>\n",
       "      <td>83</td>\n",
       "      <td>174</td>\n",
       "      <td>27.4</td>\n",
       "      <td>2</td>\n",
       "      <td>75</td>\n",
       "      <td>100</td>\n",
       "      <td>1</td>\n",
       "      <td>0</td>\n",
       "      <td>0</td>\n",
       "      <td>41.0</td>\n",
       "      <td>0.0</td>\n",
       "      <td>20.0</td>\n",
       "      <td>39.0</td>\n",
       "      <td>9.0</td>\n",
       "      <td>10.0</td>\n",
       "      <td>55.0</td>\n",
       "      <td>44.0</td>\n",
       "    </tr>\n",
       "    <tr>\n",
       "      <th>P0004</th>\n",
       "      <td>56</td>\n",
       "      <td>0</td>\n",
       "      <td>84</td>\n",
       "      <td>165</td>\n",
       "      <td>30.9</td>\n",
       "      <td>2</td>\n",
       "      <td>75</td>\n",
       "      <td>155</td>\n",
       "      <td>8</td>\n",
       "      <td>1</td>\n",
       "      <td>1</td>\n",
       "      <td>43.0</td>\n",
       "      <td>0.0</td>\n",
       "      <td>24.0</td>\n",
       "      <td>38.0</td>\n",
       "      <td>13.0</td>\n",
       "      <td>11.0</td>\n",
       "      <td>56.0</td>\n",
       "      <td>46.0</td>\n",
       "    </tr>\n",
       "    <tr>\n",
       "      <th>P0005</th>\n",
       "      <td>70</td>\n",
       "      <td>1</td>\n",
       "      <td>97</td>\n",
       "      <td>183</td>\n",
       "      <td>29.0</td>\n",
       "      <td>2</td>\n",
       "      <td>85</td>\n",
       "      <td>125</td>\n",
       "      <td>2</td>\n",
       "      <td>1</td>\n",
       "      <td>1</td>\n",
       "      <td>55.0</td>\n",
       "      <td>0.0</td>\n",
       "      <td>25.0</td>\n",
       "      <td>34.0</td>\n",
       "      <td>11.0</td>\n",
       "      <td>11.0</td>\n",
       "      <td>73.0</td>\n",
       "      <td>67.0</td>\n",
       "    </tr>\n",
       "    <tr>\n",
       "      <th>P0006</th>\n",
       "      <td>70</td>\n",
       "      <td>1</td>\n",
       "      <td>83</td>\n",
       "      <td>165</td>\n",
       "      <td>30.5</td>\n",
       "      <td>2</td>\n",
       "      <td>75</td>\n",
       "      <td>105</td>\n",
       "      <td>2</td>\n",
       "      <td>1</td>\n",
       "      <td>0</td>\n",
       "      <td>50.0</td>\n",
       "      <td>0.0</td>\n",
       "      <td>30.0</td>\n",
       "      <td>34.0</td>\n",
       "      <td>13.0</td>\n",
       "      <td>13.0</td>\n",
       "      <td>65.0</td>\n",
       "      <td>57.0</td>\n",
       "    </tr>\n",
       "  </tbody>\n",
       "</table>\n",
       "</div>"
      ],
      "text/plain": [
       "            Age  Gender  Weight(kg)  Height(cm)  BMI(Kg/m2)  NYHAclass  \\\n",
       "Patient ID                                                               \n",
       "P0002        58       1          74         160        28.9          2   \n",
       "P0003        69       1          83         174        27.4          2   \n",
       "P0004        56       0          84         165        30.9          2   \n",
       "P0005        70       1          97         183        29.0          2   \n",
       "P0006        70       1          83         165        30.5          2   \n",
       "\n",
       "            DBP(mmHg)  SBP(mmHg)  HF  Diabetes  Dyslipemia  \\\n",
       "Patient ID                                                   \n",
       "P0002              80        130   2         0           1   \n",
       "P0003              75        100   1         0           0   \n",
       "P0004              75        155   8         1           1   \n",
       "P0005              85        125   2         1           1   \n",
       "P0006              75        105   2         1           0   \n",
       "\n",
       "            Left_atrial_size(mm)  Right_ventricle_contractility_altered  \\\n",
       "Patient ID                                                                \n",
       "P0002                       39.0                                    0.0   \n",
       "P0003                       41.0                                    0.0   \n",
       "P0004                       43.0                                    0.0   \n",
       "P0005                       55.0                                    0.0   \n",
       "P0006                       50.0                                    0.0   \n",
       "\n",
       "            RVEDD(mm)  LVEF(%)  LVPWT(mm)  Septal_thickness(mm)  LVEDD(mm)  \\\n",
       "Patient ID                                                                   \n",
       "P0002            24.0     35.0       12.0                  14.0       54.0   \n",
       "P0003            20.0     39.0        9.0                  10.0       55.0   \n",
       "P0004            24.0     38.0       13.0                  11.0       56.0   \n",
       "P0005            25.0     34.0       11.0                  11.0       73.0   \n",
       "P0006            30.0     34.0       13.0                  13.0       65.0   \n",
       "\n",
       "            LVESD(mm)  \n",
       "Patient ID             \n",
       "P0002            38.0  \n",
       "P0003            44.0  \n",
       "P0004            46.0  \n",
       "P0005            67.0  \n",
       "P0006            57.0  "
      ]
     },
     "execution_count": 219,
     "metadata": {},
     "output_type": "execute_result"
    }
   ],
   "source": [
    "data_model.query('Age > 50 and NYHAclass == 2').head()"
   ]
  },
  {
   "cell_type": "code",
   "execution_count": 220,
   "id": "312ae98d",
   "metadata": {},
   "outputs": [],
   "source": [
    "from sklearn.model_selection import train_test_split\n",
    "Xtrain, Xtest, ytrain, ytest = train_test_split(X, y, random_state=1)"
   ]
  },
  {
   "cell_type": "code",
   "execution_count": 221,
   "id": "bc074661",
   "metadata": {},
   "outputs": [],
   "source": [
    "from sklearn.naive_bayes import GaussianNB\n",
    "model = GaussianNB()\n",
    "model.fit(Xtrain, ytrain)\n",
    "y_model = model.predict(Xtest)"
   ]
  },
  {
   "cell_type": "code",
   "execution_count": 222,
   "id": "9df6e2fa",
   "metadata": {},
   "outputs": [
    {
     "data": {
      "text/plain": [
       "0.6612903225806451"
      ]
     },
     "execution_count": 222,
     "metadata": {},
     "output_type": "execute_result"
    }
   ],
   "source": [
    "from sklearn.metrics import accuracy_score\n",
    "accuracy_score(ytest, y_model)"
   ]
  },
  {
   "cell_type": "code",
   "execution_count": 223,
   "id": "c2877b4d",
   "metadata": {},
   "outputs": [
    {
     "data": {
      "image/png": "[encoded data removed]",
      "text/plain": [
       "<Figure size 640x480 with 1 Axes>"
      ]
     },
     "metadata": {},
     "output_type": "display_data"
    }
   ],
   "source": [
    "from sklearn.metrics import confusion_matrix\n",
    "mat = confusion_matrix(ytest, y_model)\n",
    "sns.heatmap(mat, square=True, annot=True, cbar=False, cmap='Blues')\n",
    "plt.xlabel('predicted value')\n",
    "plt.ylabel('true value');"
   ]
  },
  {
   "cell_type": "code",
   "execution_count": 224,
   "id": "56d4acb0",
   "metadata": {},
   "outputs": [
    {
     "data": {
      "text/plain": [
       "array([[89, 32],\n",
       "       [52, 75]], dtype=int64)"
      ]
     },
     "execution_count": 224,
     "metadata": {},
     "output_type": "execute_result"
    }
   ],
   "source": [
    "mat"
   ]
  },
  {
   "cell_type": "code",
   "execution_count": 225,
   "id": "c7993789",
   "metadata": {},
   "outputs": [
    {
     "data": {
      "text/plain": [
       "0.0    747\n",
       "1.0    227\n",
       "Name: Right_ventricle_contractility_altered, dtype: int64"
      ]
     },
     "execution_count": 225,
     "metadata": {},
     "output_type": "execute_result"
    }
   ],
   "source": [
    "data_model['Right_ventricle_contractility_altered'].value_counts()"
   ]
  },
  {
   "cell_type": "code",
   "execution_count": 226,
   "id": "fd06119e",
   "metadata": {},
   "outputs": [
    {
     "data": {
      "text/plain": [
       "2    778\n",
       "3    214\n",
       "Name: NYHAclass, dtype: int64"
      ]
     },
     "execution_count": 226,
     "metadata": {},
     "output_type": "execute_result"
    }
   ],
   "source": [
    "data_model['NYHAclass'].value_counts()\n"
   ]
  },
  {
   "cell_type": "code",
   "execution_count": 227,
   "id": "19b3b15e",
   "metadata": {},
   "outputs": [
    {
     "data": {
      "text/html": [
       "<div>\n",
       "<style scoped>\n",
       "    .dataframe tbody tr th:only-of-type {\n",
       "        vertical-align: middle;\n",
       "    }\n",
       "\n",
       "    .dataframe tbody tr th {\n",
       "        vertical-align: top;\n",
       "    }\n",
       "\n",
       "    .dataframe thead th {\n",
       "        text-align: right;\n",
       "    }\n",
       "</style>\n",
       "<table border=\"1\" class=\"dataframe\">\n",
       "  <thead>\n",
       "    <tr style=\"text-align: right;\">\n",
       "      <th></th>\n",
       "      <th>2</th>\n",
       "      <th>3</th>\n",
       "    </tr>\n",
       "    <tr>\n",
       "      <th>Patient ID</th>\n",
       "      <th></th>\n",
       "      <th></th>\n",
       "    </tr>\n",
       "  </thead>\n",
       "  <tbody>\n",
       "    <tr>\n",
       "      <th>P0001</th>\n",
       "      <td>0</td>\n",
       "      <td>1</td>\n",
       "    </tr>\n",
       "    <tr>\n",
       "      <th>P0002</th>\n",
       "      <td>1</td>\n",
       "      <td>0</td>\n",
       "    </tr>\n",
       "    <tr>\n",
       "      <th>P0003</th>\n",
       "      <td>1</td>\n",
       "      <td>0</td>\n",
       "    </tr>\n",
       "    <tr>\n",
       "      <th>P0004</th>\n",
       "      <td>1</td>\n",
       "      <td>0</td>\n",
       "    </tr>\n",
       "    <tr>\n",
       "      <th>P0005</th>\n",
       "      <td>1</td>\n",
       "      <td>0</td>\n",
       "    </tr>\n",
       "  </tbody>\n",
       "</table>\n",
       "</div>"
      ],
      "text/plain": [
       "            2  3\n",
       "Patient ID      \n",
       "P0001       0  1\n",
       "P0002       1  0\n",
       "P0003       1  0\n",
       "P0004       1  0\n",
       "P0005       1  0"
      ]
     },
     "execution_count": 227,
     "metadata": {},
     "output_type": "execute_result"
    }
   ],
   "source": [
    "NYHAclass = pd.get_dummies(data_model['NYHAclass'])\n",
    "NYHAclass.head()"
   ]
  },
  {
   "cell_type": "code",
   "execution_count": 228,
   "id": "1d381589",
   "metadata": {},
   "outputs": [
    {
     "data": {
      "text/plain": [
       "array([1, 2, 8, 3, 6, 9, 7, 4, 5], dtype=int64)"
      ]
     },
     "execution_count": 228,
     "metadata": {},
     "output_type": "execute_result"
    }
   ],
   "source": [
    "data_model['HF'].unique()"
   ]
  },
  {
   "cell_type": "code",
   "execution_count": 229,
   "id": "2391ca98",
   "metadata": {},
   "outputs": [
    {
     "data": {
      "text/plain": [
       "array([0, 1], dtype=int64)"
      ]
     },
     "execution_count": 229,
     "metadata": {},
     "output_type": "execute_result"
    }
   ],
   "source": [
    "data_model.loc[data_model['HF'] == 1, \"HF\"] = 0\n",
    "data_model.loc[data_model['HF'] > 1, \"HF\"] = 1\n",
    "data_model.HF.unique()"
   ]
  },
  {
   "cell_type": "code",
   "execution_count": 230,
   "id": "2a45f9c9",
   "metadata": {},
   "outputs": [
    {
     "data": {
      "text/html": [
       "<div>\n",
       "<style scoped>\n",
       "    .dataframe tbody tr th:only-of-type {\n",
       "        vertical-align: middle;\n",
       "    }\n",
       "\n",
       "    .dataframe tbody tr th {\n",
       "        vertical-align: top;\n",
       "    }\n",
       "\n",
       "    .dataframe thead th {\n",
       "        text-align: right;\n",
       "    }\n",
       "</style>\n",
       "<table border=\"1\" class=\"dataframe\">\n",
       "  <thead>\n",
       "    <tr style=\"text-align: right;\">\n",
       "      <th></th>\n",
       "      <th>Age</th>\n",
       "      <th>Gender</th>\n",
       "      <th>Weight(kg)</th>\n",
       "      <th>Height(cm)</th>\n",
       "      <th>BMI(Kg/m2)</th>\n",
       "      <th>DBP(mmHg)</th>\n",
       "      <th>SBP(mmHg)</th>\n",
       "      <th>HF</th>\n",
       "      <th>Diabetes</th>\n",
       "      <th>Dyslipemia</th>\n",
       "      <th>Left_atrial_size(mm)</th>\n",
       "      <th>Right_ventricle_contractility_altered</th>\n",
       "      <th>RVEDD(mm)</th>\n",
       "      <th>LVEF(%)</th>\n",
       "      <th>LVPWT(mm)</th>\n",
       "      <th>Septal_thickness(mm)</th>\n",
       "      <th>LVEDD(mm)</th>\n",
       "      <th>LVESD(mm)</th>\n",
       "      <th>NYHAclass_2</th>\n",
       "      <th>NYHAclass_3</th>\n",
       "    </tr>\n",
       "    <tr>\n",
       "      <th>Patient ID</th>\n",
       "      <th></th>\n",
       "      <th></th>\n",
       "      <th></th>\n",
       "      <th></th>\n",
       "      <th></th>\n",
       "      <th></th>\n",
       "      <th></th>\n",
       "      <th></th>\n",
       "      <th></th>\n",
       "      <th></th>\n",
       "      <th></th>\n",
       "      <th></th>\n",
       "      <th></th>\n",
       "      <th></th>\n",
       "      <th></th>\n",
       "      <th></th>\n",
       "      <th></th>\n",
       "      <th></th>\n",
       "      <th></th>\n",
       "      <th></th>\n",
       "    </tr>\n",
       "  </thead>\n",
       "  <tbody>\n",
       "    <tr>\n",
       "      <th>P0001</th>\n",
       "      <td>58</td>\n",
       "      <td>1</td>\n",
       "      <td>83</td>\n",
       "      <td>163</td>\n",
       "      <td>31.2</td>\n",
       "      <td>75</td>\n",
       "      <td>110</td>\n",
       "      <td>0</td>\n",
       "      <td>0</td>\n",
       "      <td>0</td>\n",
       "      <td>50.0</td>\n",
       "      <td>0.0</td>\n",
       "      <td>24.0</td>\n",
       "      <td>35.0</td>\n",
       "      <td>10.0</td>\n",
       "      <td>10.0</td>\n",
       "      <td>72.0</td>\n",
       "      <td>60.0</td>\n",
       "      <td>0</td>\n",
       "      <td>1</td>\n",
       "    </tr>\n",
       "    <tr>\n",
       "      <th>P0002</th>\n",
       "      <td>58</td>\n",
       "      <td>1</td>\n",
       "      <td>74</td>\n",
       "      <td>160</td>\n",
       "      <td>28.9</td>\n",
       "      <td>80</td>\n",
       "      <td>130</td>\n",
       "      <td>1</td>\n",
       "      <td>0</td>\n",
       "      <td>1</td>\n",
       "      <td>39.0</td>\n",
       "      <td>0.0</td>\n",
       "      <td>24.0</td>\n",
       "      <td>35.0</td>\n",
       "      <td>12.0</td>\n",
       "      <td>14.0</td>\n",
       "      <td>54.0</td>\n",
       "      <td>38.0</td>\n",
       "      <td>1</td>\n",
       "      <td>0</td>\n",
       "    </tr>\n",
       "    <tr>\n",
       "      <th>P0003</th>\n",
       "      <td>69</td>\n",
       "      <td>1</td>\n",
       "      <td>83</td>\n",
       "      <td>174</td>\n",
       "      <td>27.4</td>\n",
       "      <td>75</td>\n",
       "      <td>100</td>\n",
       "      <td>0</td>\n",
       "      <td>0</td>\n",
       "      <td>0</td>\n",
       "      <td>41.0</td>\n",
       "      <td>0.0</td>\n",
       "      <td>20.0</td>\n",
       "      <td>39.0</td>\n",
       "      <td>9.0</td>\n",
       "      <td>10.0</td>\n",
       "      <td>55.0</td>\n",
       "      <td>44.0</td>\n",
       "      <td>1</td>\n",
       "      <td>0</td>\n",
       "    </tr>\n",
       "    <tr>\n",
       "      <th>P0004</th>\n",
       "      <td>56</td>\n",
       "      <td>0</td>\n",
       "      <td>84</td>\n",
       "      <td>165</td>\n",
       "      <td>30.9</td>\n",
       "      <td>75</td>\n",
       "      <td>155</td>\n",
       "      <td>1</td>\n",
       "      <td>1</td>\n",
       "      <td>1</td>\n",
       "      <td>43.0</td>\n",
       "      <td>0.0</td>\n",
       "      <td>24.0</td>\n",
       "      <td>38.0</td>\n",
       "      <td>13.0</td>\n",
       "      <td>11.0</td>\n",
       "      <td>56.0</td>\n",
       "      <td>46.0</td>\n",
       "      <td>1</td>\n",
       "      <td>0</td>\n",
       "    </tr>\n",
       "    <tr>\n",
       "      <th>P0005</th>\n",
       "      <td>70</td>\n",
       "      <td>1</td>\n",
       "      <td>97</td>\n",
       "      <td>183</td>\n",
       "      <td>29.0</td>\n",
       "      <td>85</td>\n",
       "      <td>125</td>\n",
       "      <td>1</td>\n",
       "      <td>1</td>\n",
       "      <td>1</td>\n",
       "      <td>55.0</td>\n",
       "      <td>0.0</td>\n",
       "      <td>25.0</td>\n",
       "      <td>34.0</td>\n",
       "      <td>11.0</td>\n",
       "      <td>11.0</td>\n",
       "      <td>73.0</td>\n",
       "      <td>67.0</td>\n",
       "      <td>1</td>\n",
       "      <td>0</td>\n",
       "    </tr>\n",
       "  </tbody>\n",
       "</table>\n",
       "</div>"
      ],
      "text/plain": [
       "            Age  Gender  Weight(kg)  Height(cm)  BMI(Kg/m2)  DBP(mmHg)  \\\n",
       "Patient ID                                                               \n",
       "P0001        58       1          83         163        31.2         75   \n",
       "P0002        58       1          74         160        28.9         80   \n",
       "P0003        69       1          83         174        27.4         75   \n",
       "P0004        56       0          84         165        30.9         75   \n",
       "P0005        70       1          97         183        29.0         85   \n",
       "\n",
       "            SBP(mmHg)  HF  Diabetes  Dyslipemia  Left_atrial_size(mm)  \\\n",
       "Patient ID                                                              \n",
       "P0001             110   0         0           0                  50.0   \n",
       "P0002             130   1         0           1                  39.0   \n",
       "P0003             100   0         0           0                  41.0   \n",
       "P0004             155   1         1           1                  43.0   \n",
       "P0005             125   1         1           1                  55.0   \n",
       "\n",
       "            Right_ventricle_contractility_altered  RVEDD(mm)  LVEF(%)  \\\n",
       "Patient ID                                                              \n",
       "P0001                                         0.0       24.0     35.0   \n",
       "P0002                                         0.0       24.0     35.0   \n",
       "P0003                                         0.0       20.0     39.0   \n",
       "P0004                                         0.0       24.0     38.0   \n",
       "P0005                                         0.0       25.0     34.0   \n",
       "\n",
       "            LVPWT(mm)  Septal_thickness(mm)  LVEDD(mm)  LVESD(mm)  \\\n",
       "Patient ID                                                          \n",
       "P0001            10.0                  10.0       72.0       60.0   \n",
       "P0002            12.0                  14.0       54.0       38.0   \n",
       "P0003             9.0                  10.0       55.0       44.0   \n",
       "P0004            13.0                  11.0       56.0       46.0   \n",
       "P0005            11.0                  11.0       73.0       67.0   \n",
       "\n",
       "            NYHAclass_2  NYHAclass_3  \n",
       "Patient ID                            \n",
       "P0001                 0            1  \n",
       "P0002                 1            0  \n",
       "P0003                 1            0  \n",
       "P0004                 1            0  \n",
       "P0005                 1            0  "
      ]
     },
     "execution_count": 230,
     "metadata": {},
     "output_type": "execute_result"
    }
   ],
   "source": [
    "data_model1 = data_model.drop(columns= \"NYHAclass\")\n",
    "data_model2 = data_model1.join(NYHAclass.add_prefix(\"NYHAclass_\"))\n",
    "data_model2.head()"
   ]
  },
  {
   "cell_type": "code",
   "execution_count": 231,
   "id": "545060fc",
   "metadata": {},
   "outputs": [
    {
     "data": {
      "text/plain": [
       "Age                                        0\n",
       "Gender                                     0\n",
       "Weight(kg)                                 0\n",
       "Height(cm)                                 0\n",
       "BMI(Kg/m2)                                 0\n",
       "DBP(mmHg)                                  0\n",
       "SBP(mmHg)                                  0\n",
       "HF                                         0\n",
       "Diabetes                                   0\n",
       "Dyslipemia                                 0\n",
       "Left_atrial_size(mm)                      10\n",
       "Right_ventricle_contractility_altered     18\n",
       "RVEDD(mm)                                119\n",
       "LVEF(%)                                    3\n",
       "LVPWT(mm)                                 20\n",
       "Septal_thickness(mm)                      20\n",
       "LVEDD(mm)                                  7\n",
       "LVESD(mm)                                117\n",
       "NYHAclass_2                                0\n",
       "NYHAclass_3                                0\n",
       "dtype: int64"
      ]
     },
     "execution_count": 231,
     "metadata": {},
     "output_type": "execute_result"
    }
   ],
   "source": [
    "data_model2.isna().sum()"
   ]
  },
  {
   "cell_type": "code",
   "execution_count": 251,
   "id": "71cb84a4",
   "metadata": {},
   "outputs": [
    {
     "data": {
      "text/html": [
       "<div>\n",
       "<style scoped>\n",
       "    .dataframe tbody tr th:only-of-type {\n",
       "        vertical-align: middle;\n",
       "    }\n",
       "\n",
       "    .dataframe tbody tr th {\n",
       "        vertical-align: top;\n",
       "    }\n",
       "\n",
       "    .dataframe thead th {\n",
       "        text-align: right;\n",
       "    }\n",
       "</style>\n",
       "<table border=\"1\" class=\"dataframe\">\n",
       "  <thead>\n",
       "    <tr style=\"text-align: right;\">\n",
       "      <th></th>\n",
       "      <th>Age</th>\n",
       "      <th>Gender</th>\n",
       "      <th>Weight(kg)</th>\n",
       "      <th>Height(cm)</th>\n",
       "      <th>BMI(Kg/m2)</th>\n",
       "      <th>DBP(mmHg)</th>\n",
       "      <th>SBP(mmHg)</th>\n",
       "      <th>HF</th>\n",
       "      <th>Diabetes</th>\n",
       "      <th>Dyslipemia</th>\n",
       "      <th>Left_atrial_size(mm)</th>\n",
       "      <th>Right_ventricle_contractility_altered</th>\n",
       "      <th>RVEDD(mm)</th>\n",
       "      <th>LVEF(%)</th>\n",
       "      <th>LVPWT(mm)</th>\n",
       "      <th>Septal_thickness(mm)</th>\n",
       "      <th>LVEDD(mm)</th>\n",
       "      <th>LVESD(mm)</th>\n",
       "      <th>NYHAclass_2</th>\n",
       "      <th>NYHAclass_3</th>\n",
       "    </tr>\n",
       "    <tr>\n",
       "      <th>Patient ID</th>\n",
       "      <th></th>\n",
       "      <th></th>\n",
       "      <th></th>\n",
       "      <th></th>\n",
       "      <th></th>\n",
       "      <th></th>\n",
       "      <th></th>\n",
       "      <th></th>\n",
       "      <th></th>\n",
       "      <th></th>\n",
       "      <th></th>\n",
       "      <th></th>\n",
       "      <th></th>\n",
       "      <th></th>\n",
       "      <th></th>\n",
       "      <th></th>\n",
       "      <th></th>\n",
       "      <th></th>\n",
       "      <th></th>\n",
       "      <th></th>\n",
       "    </tr>\n",
       "  </thead>\n",
       "  <tbody>\n",
       "    <tr>\n",
       "      <th>P0001</th>\n",
       "      <td>58</td>\n",
       "      <td>1</td>\n",
       "      <td>83</td>\n",
       "      <td>163</td>\n",
       "      <td>31.2</td>\n",
       "      <td>75</td>\n",
       "      <td>110</td>\n",
       "      <td>0</td>\n",
       "      <td>0</td>\n",
       "      <td>0</td>\n",
       "      <td>50.0</td>\n",
       "      <td>0.0</td>\n",
       "      <td>24.0</td>\n",
       "      <td>35.0</td>\n",
       "      <td>10.0</td>\n",
       "      <td>10.0</td>\n",
       "      <td>72.0</td>\n",
       "      <td>60.0</td>\n",
       "      <td>0</td>\n",
       "      <td>1</td>\n",
       "    </tr>\n",
       "    <tr>\n",
       "      <th>P0002</th>\n",
       "      <td>58</td>\n",
       "      <td>1</td>\n",
       "      <td>74</td>\n",
       "      <td>160</td>\n",
       "      <td>28.9</td>\n",
       "      <td>80</td>\n",
       "      <td>130</td>\n",
       "      <td>1</td>\n",
       "      <td>0</td>\n",
       "      <td>1</td>\n",
       "      <td>39.0</td>\n",
       "      <td>0.0</td>\n",
       "      <td>24.0</td>\n",
       "      <td>35.0</td>\n",
       "      <td>12.0</td>\n",
       "      <td>14.0</td>\n",
       "      <td>54.0</td>\n",
       "      <td>38.0</td>\n",
       "      <td>1</td>\n",
       "      <td>0</td>\n",
       "    </tr>\n",
       "    <tr>\n",
       "      <th>P0003</th>\n",
       "      <td>69</td>\n",
       "      <td>1</td>\n",
       "      <td>83</td>\n",
       "      <td>174</td>\n",
       "      <td>27.4</td>\n",
       "      <td>75</td>\n",
       "      <td>100</td>\n",
       "      <td>0</td>\n",
       "      <td>0</td>\n",
       "      <td>0</td>\n",
       "      <td>41.0</td>\n",
       "      <td>0.0</td>\n",
       "      <td>20.0</td>\n",
       "      <td>39.0</td>\n",
       "      <td>9.0</td>\n",
       "      <td>10.0</td>\n",
       "      <td>55.0</td>\n",
       "      <td>44.0</td>\n",
       "      <td>1</td>\n",
       "      <td>0</td>\n",
       "    </tr>\n",
       "    <tr>\n",
       "      <th>P0004</th>\n",
       "      <td>56</td>\n",
       "      <td>0</td>\n",
       "      <td>84</td>\n",
       "      <td>165</td>\n",
       "      <td>30.9</td>\n",
       "      <td>75</td>\n",
       "      <td>155</td>\n",
       "      <td>1</td>\n",
       "      <td>1</td>\n",
       "      <td>1</td>\n",
       "      <td>43.0</td>\n",
       "      <td>0.0</td>\n",
       "      <td>24.0</td>\n",
       "      <td>38.0</td>\n",
       "      <td>13.0</td>\n",
       "      <td>11.0</td>\n",
       "      <td>56.0</td>\n",
       "      <td>46.0</td>\n",
       "      <td>1</td>\n",
       "      <td>0</td>\n",
       "    </tr>\n",
       "    <tr>\n",
       "      <th>P0005</th>\n",
       "      <td>70</td>\n",
       "      <td>1</td>\n",
       "      <td>97</td>\n",
       "      <td>183</td>\n",
       "      <td>29.0</td>\n",
       "      <td>85</td>\n",
       "      <td>125</td>\n",
       "      <td>1</td>\n",
       "      <td>1</td>\n",
       "      <td>1</td>\n",
       "      <td>55.0</td>\n",
       "      <td>0.0</td>\n",
       "      <td>25.0</td>\n",
       "      <td>34.0</td>\n",
       "      <td>11.0</td>\n",
       "      <td>11.0</td>\n",
       "      <td>73.0</td>\n",
       "      <td>67.0</td>\n",
       "      <td>1</td>\n",
       "      <td>0</td>\n",
       "    </tr>\n",
       "  </tbody>\n",
       "</table>\n",
       "</div>"
      ],
      "text/plain": [
       "            Age  Gender  Weight(kg)  Height(cm)  BMI(Kg/m2)  DBP(mmHg)  \\\n",
       "Patient ID                                                               \n",
       "P0001        58       1          83         163        31.2         75   \n",
       "P0002        58       1          74         160        28.9         80   \n",
       "P0003        69       1          83         174        27.4         75   \n",
       "P0004        56       0          84         165        30.9         75   \n",
       "P0005        70       1          97         183        29.0         85   \n",
       "\n",
       "            SBP(mmHg)  HF  Diabetes  Dyslipemia  Left_atrial_size(mm)  \\\n",
       "Patient ID                                                              \n",
       "P0001             110   0         0           0                  50.0   \n",
       "P0002             130   1         0           1                  39.0   \n",
       "P0003             100   0         0           0                  41.0   \n",
       "P0004             155   1         1           1                  43.0   \n",
       "P0005             125   1         1           1                  55.0   \n",
       "\n",
       "            Right_ventricle_contractility_altered  RVEDD(mm)  LVEF(%)  \\\n",
       "Patient ID                                                              \n",
       "P0001                                         0.0       24.0     35.0   \n",
       "P0002                                         0.0       24.0     35.0   \n",
       "P0003                                         0.0       20.0     39.0   \n",
       "P0004                                         0.0       24.0     38.0   \n",
       "P0005                                         0.0       25.0     34.0   \n",
       "\n",
       "            LVPWT(mm)  Septal_thickness(mm)  LVEDD(mm)  LVESD(mm)  \\\n",
       "Patient ID                                                          \n",
       "P0001            10.0                  10.0       72.0       60.0   \n",
       "P0002            12.0                  14.0       54.0       38.0   \n",
       "P0003             9.0                  10.0       55.0       44.0   \n",
       "P0004            13.0                  11.0       56.0       46.0   \n",
       "P0005            11.0                  11.0       73.0       67.0   \n",
       "\n",
       "            NYHAclass_2  NYHAclass_3  \n",
       "Patient ID                            \n",
       "P0001                 0            1  \n",
       "P0002                 1            0  \n",
       "P0003                 1            0  \n",
       "P0004                 1            0  \n",
       "P0005                 1            0  "
      ]
     },
     "execution_count": 251,
     "metadata": {},
     "output_type": "execute_result"
    }
   ],
   "source": [
    "# data_model2 = data_model2.fillna({'Left_atrial_size(mm)': data_model2['Left_atrial_size(mm)'].mean(),\n",
    "#                                  'Right_ventricle_contractility_altered': data_model2['Right_ventricle_contractility_altered'].ffill(),\n",
    "#                                  'RVEDD(mm)': data_model2['RVEDD(mm)'].mean(),\n",
    "#                                  'LVEF(%)': data_model2['LVEF(%)'].mean(),\n",
    "#                                  'LVPWT(mm)': data_model2['LVPWT(mm)'].ffill(),\n",
    "#                                  'Septal_thickness(mm)': data_model2['Septal_thickness(mm)'].mean(),\n",
    "#                                  'LVEDD(mm)': data_model2['LVEDD(mm)'].mean(),\n",
    "#                                  'LVESD(mm)': data_model2['LVESD(mm)'].mean()})\n",
    "# data_model2.head()"
   ]
  },
  {
   "cell_type": "code",
   "execution_count": 233,
   "id": "3eefae76",
   "metadata": {},
   "outputs": [
    {
     "data": {
      "text/plain": [
       "<sklearn.metrics._plot.confusion_matrix.ConfusionMatrixDisplay at 0x24b783757d0>"
      ]
     },
     "execution_count": 233,
     "metadata": {},
     "output_type": "execute_result"
    },
    {
     "data": {
      "image/png": "[encoded data removed]",
      "text/plain": [
       "<Figure size 640x480 with 2 Axes>"
      ]
     },
     "metadata": {},
     "output_type": "display_data"
    }
   ],
   "source": [
    "X = data_model2.drop(\"HF\", axis=1)\n",
    "y = data_model2['HF']\n",
    "\n",
    "from sklearn.impute import SimpleImputer\n",
    "imp= SimpleImputer(strategy='mean')\n",
    "X = imp.fit_transform(X)\n",
    "\n",
    "\n",
    "from sklearn.model_selection import train_test_split\n",
    "Xtrain, Xtest, ytrain, ytest = train_test_split(X, y, random_state=42)\n",
    "scaler = preprocessing.StandardScaler().fit(Xtrain)\n",
    "Xtrain_scaled = scaler.transform(Xtrain)\n",
    "Xtest_scaled = scaler.transform(Xtest)\n",
    "\n",
    "from sklearn.svm import SVC\n",
    "clf_svm = SVC(random_state=42)\n",
    "clf_svm.fit(Xtrain_scaled, ytrain)\n",
    "\n",
    "ConfusionMatrixDisplay.from_estimator(clf_svm, Xtest_scaled, ytest, display_labels= [\"No HF\", \"HF\"] )\n",
    "\n"
   ]
  },
  {
   "cell_type": "code",
   "execution_count": 234,
   "id": "530ce59c",
   "metadata": {},
   "outputs": [
    {
     "data": {
      "text/plain": [
       "19"
      ]
     },
     "execution_count": 234,
     "metadata": {},
     "output_type": "execute_result"
    }
   ],
   "source": [
    "num_features = np.size(Xtrain_scaled, axis=1)\n",
    "num_features"
   ]
  },
  {
   "cell_type": "code",
   "execution_count": 235,
   "id": "1708ea49",
   "metadata": {},
   "outputs": [
    {
     "name": "stdout",
     "output_type": "stream",
     "text": [
      "{'C': 10, 'gamma': 0.001, 'kernel': 'rbf'}\n"
     ]
    }
   ],
   "source": [
    "from sklearn.model_selection import GridSearchCV\n",
    "\n",
    "param_grid = {'C': [1, 10, 100, 1000],\n",
    "             'gamma': [1/num_features, 1, 0.1, .01, .001, .0001],\n",
    "             'kernel': ['rbf']}\n",
    "\n",
    "grid = GridSearchCV(\n",
    "    SVC(), \n",
    "    param_grid, \n",
    "    cv=5,\n",
    "    scoring='roc_auc',\n",
    "    verbose=0\n",
    ")\n",
    "\n",
    "\n",
    "grid.fit(Xtrain_scaled, ytrain)\n",
    "print(grid.best_params_)\n",
    "\n",
    "# model=grid.best_estimator_\n",
    "# yfit= model.predict(Xtest)"
   ]
  },
  {
   "cell_type": "code",
   "execution_count": 236,
   "id": "12c4fb16",
   "metadata": {},
   "outputs": [
    {
     "data": {
      "text/plain": [
       "<sklearn.metrics._plot.confusion_matrix.ConfusionMatrixDisplay at 0x24b79077090>"
      ]
     },
     "execution_count": 236,
     "metadata": {},
     "output_type": "execute_result"
    },
    {
     "data": {
      "image/png": "[encoded data removed]",
      "text/plain": [
       "<Figure size 640x480 with 2 Axes>"
      ]
     },
     "metadata": {},
     "output_type": "display_data"
    }
   ],
   "source": [
    "clf_svm = SVC(random_state=42, C=10, gamma=0.001 )\n",
    "clf_svm.fit(Xtrain_scaled, ytrain)\n",
    "\n",
    "ConfusionMatrixDisplay.from_estimator(clf_svm, Xtest_scaled, ytest, display_labels= [\"No HF\", \"HF\"] )"
   ]
  },
  {
   "cell_type": "code",
   "execution_count": 243,
   "id": "2e919c4c",
   "metadata": {},
   "outputs": [
    {
     "data": {
      "image/png": "[encoded data removed]",
      "text/plain": [
       "<Figure size 640x480 with 1 Axes>"
      ]
     },
     "metadata": {},
     "output_type": "display_data"
    }
   ],
   "source": [
    "pca = PCA()\n",
    "Xtrain_pca = pca.fit_transform(Xtrain_scaled)\n",
    "\n",
    "per_var= np.round(pca.explained_variance_ratio_ * 100, decimals=1)\n",
    "labels = [str(x) for x in range(1, len(per_var)+1)]\n",
    "plt.bar(x=range(1, len(per_var)+1), height= per_var, tick_label= labels)\n",
    "plt.ylabel('Percentage of Explained Variance')\n",
    "plt.xlabel('Principal Components')\n",
    "plt.title('Scree Plot')\n",
    "plt.show()"
   ]
  },
  {
   "cell_type": "code",
   "execution_count": 253,
   "id": "90b81017",
   "metadata": {},
   "outputs": [
    {
     "data": {
      "text/plain": [
       "2"
      ]
     },
     "execution_count": 253,
     "metadata": {},
     "output_type": "execute_result"
    }
   ],
   "source": [
    "train_pc1_coords = Xtrain_pca[:, 0]\n",
    "train_pc2_coords = Xtrain_pca[:, 1]\n",
    "\n",
    "train_pca_scaled = preprocessing.scale(np.column_stack((train_pc1_coords, train_pc2_coords)))\n",
    "\n",
    "num_features = np.size(train_pca_scaled, axis=1)\n",
    "num_features"
   ]
  },
  {
   "cell_type": "code",
   "execution_count": 248,
   "id": "ef3aa38b",
   "metadata": {},
   "outputs": [
    {
     "name": "stdout",
     "output_type": "stream",
     "text": [
      "{'C': 1000, 'gamma': 1e-05, 'kernel': 'rbf'}\n"
     ]
    }
   ],
   "source": [
    "param_grid = {'C': [1, 10, 100, 1000],\n",
    "             'gamma': [1/num_features, 1, 0.1, .01, .001, .0001, 0.00001],\n",
    "             'kernel': ['rbf']}\n",
    "\n",
    "grid = GridSearchCV(\n",
    "    SVC(), \n",
    "    param_grid, \n",
    "    cv=5,\n",
    "    scoring='roc_auc',\n",
    "    verbose=0\n",
    ")\n",
    "\n",
    "\n",
    "grid.fit(train_pca_scaled, ytrain)\n",
    "print(grid.best_params_)"
   ]
  },
  {
   "cell_type": "code",
   "execution_count": 250,
   "id": "a56b375c",
   "metadata": {},
   "outputs": [
    {
     "data": {
      "text/html": [
       "<style>#sk-container-id-6 {color: black;}#sk-container-id-6 pre{padding: 0;}#sk-container-id-6 div.sk-toggleable {background-color: white;}#sk-container-id-6 label.sk-toggleable__label {cursor: pointer;display: block;width: 100%;margin-bottom: 0;padding: 0.3em;box-sizing: border-box;text-align: center;}#sk-container-id-6 label.sk-toggleable__label-arrow:before {content: \"▸\";float: left;margin-right: 0.25em;color: #696969;}#sk-container-id-6 label.sk-toggleable__label-arrow:hover:before {color: black;}#sk-container-id-6 div.sk-estimator:hover label.sk-toggleable__label-arrow:before {color: black;}#sk-container-id-6 div.sk-toggleable__content {max-height: 0;max-width: 0;overflow: hidden;text-align: left;background-color: #f0f8ff;}#sk-container-id-6 div.sk-toggleable__content pre {margin: 0.2em;color: black;border-radius: 0.25em;background-color: #f0f8ff;}#sk-container-id-6 input.sk-toggleable__control:checked~div.sk-toggleable__content {max-height: 200px;max-width: 100%;overflow: auto;}#sk-container-id-6 input.sk-toggleable__control:checked~label.sk-toggleable__label-arrow:before {content: \"▾\";}#sk-container-id-6 div.sk-estimator input.sk-toggleable__control:checked~label.sk-toggleable__label {background-color: #d4ebff;}#sk-container-id-6 div.sk-label input.sk-toggleable__control:checked~label.sk-toggleable__label {background-color: #d4ebff;}#sk-container-id-6 input.sk-hidden--visually {border: 0;clip: rect(1px 1px 1px 1px);clip: rect(1px, 1px, 1px, 1px);height: 1px;margin: -1px;overflow: hidden;padding: 0;position: absolute;width: 1px;}#sk-container-id-6 div.sk-estimator {font-family: monospace;background-color: #f0f8ff;border: 1px dotted black;border-radius: 0.25em;box-sizing: border-box;margin-bottom: 0.5em;}#sk-container-id-6 div.sk-estimator:hover {background-color: #d4ebff;}#sk-container-id-6 div.sk-parallel-item::after {content: \"\";width: 100%;border-bottom: 1px solid gray;flex-grow: 1;}#sk-container-id-6 div.sk-label:hover label.sk-toggleable__label {background-color: #d4ebff;}#sk-container-id-6 div.sk-serial::before {content: \"\";position: absolute;border-left: 1px solid gray;box-sizing: border-box;top: 0;bottom: 0;left: 50%;z-index: 0;}#sk-container-id-6 div.sk-serial {display: flex;flex-direction: column;align-items: center;background-color: white;padding-right: 0.2em;padding-left: 0.2em;position: relative;}#sk-container-id-6 div.sk-item {position: relative;z-index: 1;}#sk-container-id-6 div.sk-parallel {display: flex;align-items: stretch;justify-content: center;background-color: white;position: relative;}#sk-container-id-6 div.sk-item::before, #sk-container-id-6 div.sk-parallel-item::before {content: \"\";position: absolute;border-left: 1px solid gray;box-sizing: border-box;top: 0;bottom: 0;left: 50%;z-index: -1;}#sk-container-id-6 div.sk-parallel-item {display: flex;flex-direction: column;z-index: 1;position: relative;background-color: white;}#sk-container-id-6 div.sk-parallel-item:first-child::after {align-self: flex-end;width: 50%;}#sk-container-id-6 div.sk-parallel-item:last-child::after {align-self: flex-start;width: 50%;}#sk-container-id-6 div.sk-parallel-item:only-child::after {width: 0;}#sk-container-id-6 div.sk-dashed-wrapped {border: 1px dashed gray;margin: 0 0.4em 0.5em 0.4em;box-sizing: border-box;padding-bottom: 0.4em;background-color: white;}#sk-container-id-6 div.sk-label label {font-family: monospace;font-weight: bold;display: inline-block;line-height: 1.2em;}#sk-container-id-6 div.sk-label-container {text-align: center;}#sk-container-id-6 div.sk-container {/* jupyter's `normalize.less` sets `[hidden] { display: none; }` but bootstrap.min.css set `[hidden] { display: none !important; }` so we also need the `!important` here to be able to override the default hidden behavior on the sphinx rendered scikit-learn.org. See: https://github.com/scikit-learn/scikit-learn/issues/21755 */display: inline-block !important;position: relative;}#sk-container-id-6 div.sk-text-repr-fallback {display: none;}</style><div id=\"sk-container-id-6\" class=\"sk-top-container\"><div class=\"sk-text-repr-fallback\"><pre>SVC(C=1000, gamma=1e-05, random_state=42)</pre><b>In a Jupyter environment, please rerun this cell to show the HTML representation or trust the notebook. <br />On GitHub, the HTML representation is unable to render, please try loading this page with nbviewer.org.</b></div><div class=\"sk-container\" hidden><div class=\"sk-item\"><div class=\"sk-estimator sk-toggleable\"><input class=\"sk-toggleable__control sk-hidden--visually\" id=\"sk-estimator-id-6\" type=\"checkbox\" checked><label for=\"sk-estimator-id-6\" class=\"sk-toggleable__label sk-toggleable__label-arrow\">SVC</label><div class=\"sk-toggleable__content\"><pre>SVC(C=1000, gamma=1e-05, random_state=42)</pre></div></div></div></div></div>"
      ],
      "text/plain": [
       "SVC(C=1000, gamma=1e-05, random_state=42)"
      ]
     },
     "execution_count": 250,
     "metadata": {},
     "output_type": "execute_result"
    }
   ],
   "source": [
    "clf_svm = SVC(random_state=42, C=1000, gamma=0.00001)\n",
    "clf_svm.fit(train_pca_scaled, ytrain)"
   ]
  },
  {
   "cell_type": "code",
   "execution_count": 267,
   "id": "fe8595a4",
   "metadata": {},
   "outputs": [],
   "source": [
    "Xtest_pca = pca.transform(Xtest_scaled)\n",
    "Xtest_pc1_coords = Xtest_pca[:, 0]\n",
    "Xtest_pc2_coords = Xtest_pca[:, 1]\n",
    "\n",
    "x_min = Xtest_pc1_coords.min() - 1\n",
    "x_max = Xtest_pc1_coords.max() + 1\n",
    "\n",
    "y_min = Xtest_pc2_coords.min() - 1\n",
    "y_max = Xtest_pc2_coords.max() + 1\n",
    "\n",
    "xx, yy = np.meshgrid(np.arange(start=x_min, stop=x_max, step=0.1),\n",
    "                    np.arange(start=y_min, stop=y_max, step=0.1))\n",
    "Z = clf_svm.predict(np.column_stack((xx.ravel(), yy.ravel())))\n",
    "Z = Z.reshape(xx.shape)"
   ]
  },
  {
   "cell_type": "code",
   "execution_count": 268,
   "id": "263418e0",
   "metadata": {},
   "outputs": [
    {
     "data": {
      "text/plain": [
       "(115, 123)"
      ]
     },
     "execution_count": 268,
     "metadata": {},
     "output_type": "execute_result"
    }
   ],
   "source": [
    "Z.shape"
   ]
  },
  {
   "cell_type": "code",
   "execution_count": 277,
   "id": "625609d6",
   "metadata": {},
   "outputs": [
    {
     "data": {
      "image/png": "[encoded data removed]",
      "text/plain": [
       "<Figure size 1000x1000 with 1 Axes>"
      ]
     },
     "metadata": {},
     "output_type": "display_data"
    }
   ],
   "source": [
    "fig, ax = plt.subplots(figsize=(10, 10))\n",
    "ax.contourf(xx, yy, Z, alpha=0.1, )\n",
    "\n",
    "scatter = ax.scatter(Xtest_pc1_coords, Xtest_pc2_coords, c= ytest, cmap= \"Reds\", s= 100, edgecolors= 'k', alpha=0.7)\n",
    "legend = ax.legend(scatter.legend_elements()[0],\n",
    "                  scatter.legend_elements()[1],\n",
    "                  loc= 'upper right')\n",
    "legend.get_texts()[0].set_text(\"No HF\")\n",
    "legend.get_texts()[1].set_text(\"Yes HF\")\n",
    "\n",
    "ax.set_ylabel('PC2')\n",
    "ax.set_xlabel('PC1')\n",
    "ax.set_title(\"Decision surface using PCA transformed features\")\n",
    "plt.show()\n",
    "\n"
   ]
  },
  {
   "cell_type": "code",
   "execution_count": null,
   "id": "a576a889",
   "metadata": {},
   "outputs": [],
   "source": []
  }
 ],
 "metadata": {
  "kernelspec": {
   "display_name": "Python 3 (ipykernel)",
   "language": "python",
   "name": "python3"
  },
  "language_info": {
   "codemirror_mode": {
    "name": "ipython",
    "version": 3
   },
   "file_extension": ".py",
   "mimetype": "text/x-python",
   "name": "python",
   "nbconvert_exporter": "python",
   "pygments_lexer": "ipython3",
   "version": "3.11.4"
  }
 },
 "nbformat": 4,
 "nbformat_minor": 5
}
